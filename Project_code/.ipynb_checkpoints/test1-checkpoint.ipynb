{
 "cells": [
  {
   "cell_type": "markdown",
   "metadata": {},
   "source": [
    "使用 Tensor初始化一个1×3的矩阵 M和一个 2×1的矩阵 N，对两矩阵进行减法操作（要求实现三种不同的形式），给出结果并分析三种方式的不同（如果出现报错，分析报错的原因），同时需要指出在计算过程中发生了什么\n"
   ]
  },
  {
   "cell_type": "code",
   "execution_count": 21,
   "metadata": {
    "pycharm": {
     "name": "#%%\n"
    }
   },
   "outputs": [
    {
     "ename": "ModuleNotFoundError",
     "evalue": "No module named 'torchvision'",
     "output_type": "error",
     "traceback": [
      "\u001b[1;31m---------------------------------------------------------------------------\u001b[0m",
      "\u001b[1;31mModuleNotFoundError\u001b[0m                       Traceback (most recent call last)",
      "\u001b[1;32m~\\AppData\\Local\\Temp/ipykernel_77584/44864968.py\u001b[0m in \u001b[0;36m<module>\u001b[1;34m\u001b[0m\n\u001b[1;32m----> 1\u001b[1;33m \u001b[1;32mimport\u001b[0m \u001b[0mtorchvision\u001b[0m\u001b[1;33m\u001b[0m\u001b[1;33m\u001b[0m\u001b[0m\n\u001b[0m",
      "\u001b[1;31mModuleNotFoundError\u001b[0m: No module named 'torchvision'"
     ]
    }
   ],
   "source": [
    "import torchvision"
   ]
  },
  {
   "cell_type": "code",
   "execution_count": 7,
   "metadata": {
    "collapsed": true,
    "pycharm": {
     "name": "#%%\n"
    }
   },
   "outputs": [
    {
     "name": "stdout",
     "output_type": "stream",
     "text": [
      "tensor([[ 0.3440,  0.9183,  0.8209],\n",
      "        [-0.2318,  0.3425,  0.2451]])\n",
      "tensor([[ 0.3440,  0.9183,  0.8209],\n",
      "        [-0.2318,  0.3425,  0.2451]])\n"
     ]
    },
    {
     "ename": "RuntimeError",
     "evalue": "output with shape [1, 3] doesn't match the broadcast shape [2, 3]",
     "output_type": "error",
     "traceback": [
      "\u001b[1;31m---------------------------------------------------------------------------\u001b[0m",
      "\u001b[1;31mRuntimeError\u001b[0m                              Traceback (most recent call last)",
      "\u001b[1;32m~\\AppData\\Local\\Temp/ipykernel_77584/3256452846.py\u001b[0m in \u001b[0;36m<module>\u001b[1;34m\u001b[0m\n\u001b[0;32m     11\u001b[0m \u001b[1;33m\u001b[0m\u001b[0m\n\u001b[0;32m     12\u001b[0m \u001b[1;31m# 形式三，inplace（原地操作）\u001b[0m\u001b[1;33m\u001b[0m\u001b[1;33m\u001b[0m\u001b[0m\n\u001b[1;32m---> 13\u001b[1;33m \u001b[0mM\u001b[0m\u001b[1;33m.\u001b[0m\u001b[0msub_\u001b[0m\u001b[1;33m(\u001b[0m\u001b[0mN\u001b[0m\u001b[1;33m)\u001b[0m\u001b[1;33m\u001b[0m\u001b[1;33m\u001b[0m\u001b[0m\n\u001b[0m\u001b[0;32m     14\u001b[0m \u001b[0mprint\u001b[0m\u001b[1;33m(\u001b[0m\u001b[0mM\u001b[0m\u001b[1;33m)\u001b[0m\u001b[1;33m\u001b[0m\u001b[1;33m\u001b[0m\u001b[0m\n\u001b[0;32m     15\u001b[0m \u001b[1;33m\u001b[0m\u001b[0m\n",
      "\u001b[1;31mRuntimeError\u001b[0m: output with shape [1, 3] doesn't match the broadcast shape [2, 3]"
     ]
    }
   ],
   "source": [
    "import torch\n",
    "\n",
    "M=torch.rand(1,3)\n",
    "N=torch.rand(2,1)\n",
    "\n",
    "# 形式一计算过程触发了广播机制\n",
    "print(M - N)\n",
    "\n",
    "# 形式二计算过程触发了广播机制\n",
    "print(torch.sub(M, N))\n",
    "\n",
    "# 形式三，inplace（原地操作）\n",
    "M.sub_(N)\n",
    "print(M)\n"
   ]
  },
  {
   "cell_type": "markdown",
   "metadata": {},
   "source": [
    "① 利用 Tensor创建两个大小分别 3×2 和 4×2的随机数矩阵P和Q，要求服从均值为0，标准差0.01为的正态分布；② 对第二步得到的矩阵 Q 进行形状变换得到 Q的转置 QT ；③ 对上述得到的矩阵P和矩阵 QT 求内积\n"
   ]
  },
  {
   "cell_type": "code",
   "execution_count": 16,
   "metadata": {
    "pycharm": {
     "name": "#%%\n"
    }
   },
   "outputs": [
    {
     "name": "stdout",
     "output_type": "stream",
     "text": [
      "tensor([[ 0.0070,  0.0027],\n",
      "        [ 0.0047, -0.0016],\n",
      "        [-0.0076,  0.0094]])\n",
      "tensor([[-0.0097,  0.0066],\n",
      "        [-0.0019, -0.0150],\n",
      "        [ 0.0019,  0.0013],\n",
      "        [ 0.0098,  0.0023]])\n",
      "tensor([[-0.0097, -0.0019,  0.0019,  0.0098],\n",
      "        [ 0.0066, -0.0150,  0.0013,  0.0023]])\n",
      "tensor([[-4.9750e-05, -5.2967e-05,  1.6572e-05,  7.4365e-05],\n",
      "        [-5.6216e-05,  1.5182e-05,  6.9049e-06,  4.2348e-05],\n",
      "        [ 1.3563e-04, -1.2709e-04, -2.4066e-06, -5.1915e-05]])\n",
      "tensor([[-4.9750e-05, -5.2967e-05,  1.6572e-05,  7.4365e-05],\n",
      "        [-5.6216e-05,  1.5182e-05,  6.9049e-06,  4.2348e-05],\n",
      "        [ 1.3563e-04, -1.2709e-04, -2.4066e-06, -5.1915e-05]])\n"
     ]
    }
   ],
   "source": [
    "P=torch.normal(mean=torch.full((3,2),0.0),std=torch.full((3,2),0.01))\n",
    "Q=torch.normal(mean=torch.full((4,2),0.0),std=torch.full((4,2),0.01))\n",
    "print(P)\n",
    "print(Q)\n",
    "Q=Q.T\n",
    "print(Q)\n",
    "print(torch.mm(P,Q))\n",
    "print(torch.matmul(P,Q))"
   ]
  },
  {
   "cell_type": "markdown",
   "metadata": {
    "pycharm": {
     "name": "#%% md\n"
    }
   },
   "source": [
    "给定公式 y_3=y_1+y_2=x^2 + x^3，且 x=1。利用学习所得到的Tensor的相关知识，求y_3对的梯度x，即dy_3/dx。要求在计算过程中，在计算x^3 时中断梯度的追踪，观察结果并进行原因分析提示, 可使用 with torch.no_grad()， 举例:with torch.no_grad():\ty2 = x * 3"
   ]
  },
  {
   "cell_type": "code",
   "execution_count": 19,
   "metadata": {
    "pycharm": {
     "name": "#%%\n"
    }
   },
   "outputs": [
    {
     "name": "stdout",
     "output_type": "stream",
     "text": [
      "tensor(5.)\n"
     ]
    }
   ],
   "source": [
    "x = torch.tensor(1.0,requires_grad = True)\n",
    "y1 = x**2\n",
    "y2 = x**3\n",
    "\n",
    "y3 = y1+y2\n",
    "y3.backward()\n",
    "print(x.grad)"
   ]
  },
  {
   "cell_type": "code",
   "execution_count": 17,
   "metadata": {
    "pycharm": {
     "name": "#%%\n"
    }
   },
   "outputs": [
    {
     "name": "stdout",
     "output_type": "stream",
     "text": [
      "tensor(2.)\n"
     ]
    }
   ],
   "source": [
    "x = torch.tensor(1.0,requires_grad = True)\n",
    "y1 = x**2\n",
    "with torch.no_grad():#在该模块下，所有计算得出的tensor的requires_grad都自动设置为False。\n",
    "    y2 = x**3\n",
    "\n",
    "y3 = y1+y2\n",
    "y3.backward()\n",
    "print(x.grad)"
   ]
  },
  {
   "cell_type": "markdown",
   "metadata": {
    "pycharm": {
     "name": "#%% md\n"
    }
   },
   "source": [
    "要求动手从0实现 logistic 回归（只借助Tensor和Numpy相关的库）在人工构造的数据集上进行训练和测试，并从loss、训练集以及测试集上的准确率等多个角度对结果进行分析"
   ]
  }
 ],
 "metadata": {
  "kernelspec": {
   "display_name": "Python 3 (ipykernel)",
   "language": "python",
   "name": "python3"
  },
  "language_info": {
   "codemirror_mode": {
    "name": "ipython",
    "version": 3
   },
   "file_extension": ".py",
   "mimetype": "text/x-python",
   "name": "python",
   "nbconvert_exporter": "python",
   "pygments_lexer": "ipython3",
   "version": "3.9.7"
  }
 },
 "nbformat": 4,
 "nbformat_minor": 1
}

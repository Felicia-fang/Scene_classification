{
 "cells": [
  {
   "cell_type": "markdown",
   "metadata": {
    "id": "Czn8i7X-Pnxy"
   },
   "source": [
    "# **EE4400 - Tutorial 1, Question 1**"
   ]
  },
  {
   "cell_type": "code",
   "execution_count": 2,
   "metadata": {
    "id": "oujxwKCeRK0g"
   },
   "outputs": [],
   "source": [
    "import pandas as pd\n",
    "import matplotlib.pyplot as plt\n",
    "import numpy as np"
   ]
  },
  {
   "cell_type": "code",
   "execution_count": 3,
   "metadata": {
    "id": "K6fvlie3Q6gC"
   },
   "outputs": [],
   "source": [
    "def exp_cost_gradient(X, w, y):\n",
    "    # Compute prediction, cost and gradient based on mean square error loss\n",
    "    return pred_y, cost, gradient"
   ]
  },
  {
   "cell_type": "code",
   "execution_count": 4,
   "metadata": {
    "id": "A2Eor1pyQzNa"
   },
   "outputs": [],
   "source": [
    "# load data\n",
    "df = pd.read_csv('government-expenditure-on-education.csv')\n",
    "expenditure = df['total_expenditure_on_education'].to_numpy()\n",
    "years = df['year'].to_numpy()"
   ]
  },
  {
   "cell_type": "code",
   "execution_count": 5,
   "metadata": {
    "id": "XE6d_GV73XYm"
   },
   "outputs": [],
   "source": [
    "# Create normalized variables and store in X and y\n",
    "\n",
    "# Gradient descent\n",
    "# learning_rate = ?\n",
    "# Weigts w\n",
    "w = np.array([0,0])\n",
    "# pred_y, cost, gradient = exp_cost_gradient(X, w, y)\n",
    "num_iters = 500000 # just an example\n",
    "cost_vec = np.zeros(num_iters)\n",
    "# print('Initial Cost =', cost)"
   ]
  },
  {
   "cell_type": "code",
   "execution_count": 6,
   "metadata": {
    "id": "Zwbg_nsu3cov"
   },
   "outputs": [],
   "source": [
    "# for i in range(0, num_iters):\n",
    "    # Write the expression to update w\n",
    "    \n",
    "    # compute updated cost and new gradient\n",
    "    # pred_y, cost, gradient = exp_cost_gradient(X, w, y)\n",
    "    # cost_vec[i] = cost\n",
    "    \n",
    "    # if (i % 20 == 0):            \n",
    "    #   print('Iter', i, ': cost =', cost)\n",
    "    \n",
    "# pred_y, cost, gradient = exp_cost_gradient(X, w, y)\n",
    "# print('Final Cost =', cost)"
   ]
  },
  {
   "cell_type": "code",
   "execution_count": 7,
   "metadata": {
    "id": "Run0PL9RTFL7"
   },
   "outputs": [],
   "source": [
    "# Plot cost function values over iterations\n",
    "\n",
    "# Extrapolate until year 2023 \n",
    "\n",
    "# Plot extrapolation\n"
   ]
  },
  {
   "cell_type": "code",
   "execution_count": null,
   "metadata": {},
   "outputs": [],
   "source": []
  }
 ],
 "metadata": {
  "colab": {
   "collapsed_sections": [],
   "name": "EE4802-EE4213-Tut1Q1-skeleton.ipynb",
   "provenance": []
  },
  "kernelspec": {
   "display_name": "Python 3 (ipykernel)",
   "language": "python",
   "name": "python3"
  },
  "language_info": {
   "codemirror_mode": {
    "name": "ipython",
    "version": 3
   },
   "file_extension": ".py",
   "mimetype": "text/x-python",
   "name": "python",
   "nbconvert_exporter": "python",
   "pygments_lexer": "ipython3",
   "version": "3.9.7"
  }
 },
 "nbformat": 4,
 "nbformat_minor": 1
}

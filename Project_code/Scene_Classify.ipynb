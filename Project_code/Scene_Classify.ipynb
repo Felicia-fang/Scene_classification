{
 "cells": [
  {
   "cell_type": "markdown",
   "source": [
    "START: OWN CODE  (This file is all self-written)"
   ],
   "metadata": {
    "collapsed": false
   }
  },
  {
   "cell_type": "code",
   "execution_count": 8,
   "outputs": [],
   "source": [
    "import cv2\n",
    "import numpy as np\n",
    "from tqdm import tqdm\n",
    "import os"
   ],
   "metadata": {
    "collapsed": false,
    "pycharm": {
     "name": "#%%\n"
    }
   }
  },
  {
   "cell_type": "code",
   "execution_count": 9,
   "outputs": [],
   "source": [
    "def MyPCA(data,n):\n",
    "    mean=np.mean(data,axis=0)\n",
    "    data_new=data-mean\n",
    "    Cov=data_new.T.dot(data_new)\n",
    "    lamb,v=np.linalg.eig(Cov)\n",
    "    index=np.argsort(lamb)[::-1]\n",
    "    A=-v[:,index]\n",
    "    w=data_new.dot(A)\n",
    "    # r=lamb[index]/lamb.sum()\n",
    "    return w[:,:n]"
   ],
   "metadata": {
    "collapsed": false,
    "pycharm": {
     "name": "#%%\n"
    }
   }
  },
  {
   "cell_type": "code",
   "execution_count": 10,
   "outputs": [],
   "source": [
    "from sklearn.preprocessing import StandardScaler\n",
    "def get_feature(filepath):\n",
    "    cate=[filepath+'/'+x for x in os.listdir(filepath) if os.path.isdir(filepath+'/'+x)]\n",
    "    features = np.float32([]).reshape(0, 128)\n",
    "    label=[]\n",
    "    for idx,folder in tqdm(enumerate(cate)):\n",
    "        for im in glob.glob(folder+'/*.jpg'):\n",
    "            # print(im)\n",
    "            img=cv2.imread(im)\n",
    "            # gray=cv2.cvtColor(img,cv2.COLOR_RGB2GRAY)\n",
    "            sift=cv2.SIFT_create()\n",
    "            key, feature=sift.detectAndCompute(img,None)\n",
    "            feature = StandardScaler().fit_transform(feature)\n",
    "            features = np.append(features, feature, axis=0)\n",
    "            label.append(idx)\n",
    "    return features,label"
   ],
   "metadata": {
    "collapsed": false,
    "pycharm": {
     "name": "#%%\n"
    }
   }
  },
  {
   "cell_type": "code",
   "execution_count": 11,
   "outputs": [],
   "source": [
    "def compute_data_vec(centers,path,wordCnt):\n",
    "    label=[]\n",
    "    data_vec = np.float32([]).reshape(0, int(wordCnt))\n",
    "    cate=[path+'/'+x for x in os.listdir(path) if os.path.isdir(path+'/'+x)]\n",
    "    for idx,folder in tqdm(enumerate(cate)):\n",
    "        for im in glob.glob(folder+'/*.jpg'):\n",
    "            # print(idx)\n",
    "            img=cv2.imread(im)\n",
    "            # gray=cv2.cvtColor(img,cv2.COLOR_RGB2GRAY)\n",
    "            sift=cv2.SIFT_create()\n",
    "            key, feature=sift.detectAndCompute(img,None)\n",
    "            featVec = np.zeros((1, int(wordCnt)))\n",
    "            for i in range(0, feature.shape[0]):\n",
    "                distance = ((np.tile(feature[i], (int(wordCnt), 1)) - centers)**2).sum(axis=1)\n",
    "                distance = distance**0.5\n",
    "                increase_index = distance.argsort()\n",
    "                index = increase_index[0]\n",
    "                featVec[0][index] += 1\n",
    "            data_vec = np.append(data_vec,featVec,axis=0)\n",
    "            label.append(idx)\n",
    "    return data_vec,label"
   ],
   "metadata": {
    "collapsed": false,
    "pycharm": {
     "name": "#%%\n"
    }
   }
  },
  {
   "cell_type": "code",
   "execution_count": 12,
   "outputs": [],
   "source": [
    "image_path = './archive/image'"
   ],
   "metadata": {
    "collapsed": false,
    "pycharm": {
     "name": "#%%\n"
    }
   }
  },
  {
   "cell_type": "code",
   "execution_count": 13,
   "outputs": [
    {
     "name": "stderr",
     "output_type": "stream",
     "text": [
      "6it [1:16:14, 762.44s/it]"
     ]
    },
    {
     "name": "stdout",
     "output_type": "stream",
     "text": [
      "get features\n"
     ]
    },
    {
     "name": "stderr",
     "output_type": "stream",
     "text": [
      "\n"
     ]
    }
   ],
   "source": [
    "features,labels = get_feature(image_path)\n",
    "print(\"get features\")"
   ],
   "metadata": {
    "collapsed": false,
    "pycharm": {
     "name": "#%%\n"
    }
   }
  },
  {
   "cell_type": "code",
   "execution_count": 14,
   "outputs": [],
   "source": [
    "criteria = (cv2.TERM_CRITERIA_EPS + cv2.TERM_CRITERIA_MAX_ITER, 20, 0.1)\n",
    "random_center = cv2.KMEANS_RANDOM_CENTERS\n",
    "compactness, labels, centers = cv2.kmeans(features, 100, None,criteria, 20, random_center)\n",
    "filename = \"./centers_100.npy\"\n",
    "np.save(filename, centers)"
   ],
   "metadata": {
    "collapsed": false,
    "pycharm": {
     "name": "#%%\n"
    }
   }
  },
  {
   "cell_type": "code",
   "execution_count": 15,
   "outputs": [],
   "source": [
    "centers = np.load(\"./centers_100.npy\")"
   ],
   "metadata": {
    "collapsed": false,
    "pycharm": {
     "name": "#%%\n"
    }
   }
  },
  {
   "cell_type": "code",
   "execution_count": 16,
   "outputs": [
    {
     "name": "stderr",
     "output_type": "stream",
     "text": [
      "6it [04:01, 40.27s/it]\n"
     ]
    }
   ],
   "source": [
    "data_vec,labels=compute_data_vec(centers,image_path,100)\n"
   ],
   "metadata": {
    "collapsed": false,
    "pycharm": {
     "name": "#%%\n"
    }
   }
  },
  {
   "cell_type": "code",
   "execution_count": 20,
   "outputs": [
    {
     "name": "stdout",
     "output_type": "stream",
     "text": [
      "(17013, 100)\n"
     ]
    }
   ],
   "source": [
    "print(data_vec.shape)"
   ],
   "metadata": {
    "collapsed": false,
    "pycharm": {
     "name": "#%%\n"
    }
   }
  },
  {
   "cell_type": "code",
   "execution_count": 21,
   "outputs": [
    {
     "name": "stdout",
     "output_type": "stream",
     "text": [
      "(2621424, 128)\n",
      "(17013,)\n"
     ]
    }
   ],
   "source": [
    "print(features.shape)\n",
    "# print(labels.shape)\n",
    "labels=np.array(labels)\n",
    "print(labels.shape)"
   ],
   "metadata": {
    "collapsed": false,
    "pycharm": {
     "name": "#%%\n"
    }
   }
  },
  {
   "cell_type": "code",
   "execution_count": 35,
   "outputs": [
    {
     "name": "stderr",
     "output_type": "stream",
     "text": [
      "100%|██████████| 9/9 [30:12<00:00, 201.42s/it]\n"
     ]
    }
   ],
   "source": [
    "from matplotlib import pyplot as plt\n",
    "from sklearn.svm import SVC\n",
    "from sklearn import model_selection\n",
    "\n",
    "feature_scale = np.arange(10,100,10)\n",
    "x_shape=[]\n",
    "scores = []\n",
    "for i in tqdm(feature_scale):\n",
    "    x_copy = MyPCA(data_vec,int(i))\n",
    "\n",
    "    x_train, x_test, y_train, y_test = model_selection.train_test_split(x_copy,labels,\n",
    "                                                    test_size=0.3,random_state=1)\n",
    "\n",
    "    classifier = SVC(kernel='linear')\n",
    "\n",
    "    history = classifier.fit(x_train,y_train)\n",
    "\n",
    "    score = classifier.score(x_test,y_test)\n",
    "\n",
    "    x_shape.append(x_copy.shape[1])\n",
    "\n",
    "    scores.append(score)\n"
   ],
   "metadata": {
    "collapsed": false,
    "pycharm": {
     "name": "#%%\n"
    }
   }
  },
  {
   "cell_type": "code",
   "execution_count": 36,
   "outputs": [
    {
     "data": {
      "text/plain": "<Figure size 432x288 with 1 Axes>",
      "image/png": "[encoded data removed]"
     },
     "metadata": {
      "needs_background": "light"
     },
     "output_type": "display_data"
    }
   ],
   "source": [
    "max_index=np.argmax(scores)\n",
    "plt.plot(feature_scale,scores)\n",
    "plt.text(feature_scale[max_index],scores[max_index],(feature_scale[max_index],scores[max_index]),ha='center', va='bottom', fontsize=10)\n",
    "plt.xlabel('number of feature')\n",
    "plt.ylabel('accuracy')\n",
    "plt.show()"
   ],
   "metadata": {
    "collapsed": false,
    "pycharm": {
     "name": "#%%\n"
    }
   }
  },
  {
   "cell_type": "code",
   "execution_count": 22,
   "outputs": [
    {
     "name": "stderr",
     "output_type": "stream",
     "text": [
      "100%|██████████| 10/10 [21:20<00:00, 128.01s/it]\n"
     ]
    }
   ],
   "source": [
    "from matplotlib import pyplot as plt\n",
    "from sklearn.svm import SVC\n",
    "from sklearn import model_selection\n",
    "\n",
    "feature_scale = np.arange(55,65,1)\n",
    "x_shape=[]\n",
    "scores = []\n",
    "for i in tqdm(feature_scale):\n",
    "    x_copy = MyPCA(data_vec,int(i))\n",
    "\n",
    "    x_train, x_test, y_train, y_test = model_selection.train_test_split(x_copy,labels,\n",
    "                                                    test_size=0.3,random_state=1)\n",
    "\n",
    "    classifier = SVC(kernel='linear')\n",
    "\n",
    "    history = classifier.fit(x_train,y_train)\n",
    "\n",
    "    score = classifier.score(x_test,y_test)\n",
    "\n",
    "    x_shape.append(x_copy.shape[1])\n",
    "\n",
    "    scores.append(score)"
   ],
   "metadata": {
    "collapsed": false,
    "pycharm": {
     "name": "#%%\n"
    }
   }
  },
  {
   "cell_type": "code",
   "execution_count": 23,
   "outputs": [
    {
     "data": {
      "text/plain": "<Figure size 432x288 with 1 Axes>",
      "image/png": "[encoded data removed]"
     },
     "metadata": {
      "needs_background": "light"
     },
     "output_type": "display_data"
    }
   ],
   "source": [
    "max_index=np.argmax(scores)\n",
    "plt.plot(feature_scale,scores)\n",
    "plt.text(feature_scale[max_index],scores[max_index],(feature_scale[max_index],scores[max_index]),ha='center', va='bottom', fontsize=10)\n",
    "plt.xlabel('number of feature')\n",
    "plt.ylabel('accuracy')\n",
    "plt.show()"
   ],
   "metadata": {
    "collapsed": false,
    "pycharm": {
     "name": "#%%\n"
    }
   }
  },
  {
   "cell_type": "code",
   "execution_count": 24,
   "outputs": [
    {
     "name": "stdout",
     "output_type": "stream",
     "text": [
      "[55 56 57 58 59 60 61 62 63 64] [0.5630877742946708, 0.5638714733542319, 0.5623040752351097, 0.5621081504702194, 0.5626959247648903, 0.5615203761755486, 0.5601489028213166, 0.5589733542319749, 0.5595611285266457, 0.5568181818181818]\n"
     ]
    }
   ],
   "source": [
    "print(feature_scale,scores)"
   ],
   "metadata": {
    "collapsed": false,
    "pycharm": {
     "name": "#%%\n"
    }
   }
  },
  {
   "cell_type": "code",
   "execution_count": 39,
   "outputs": [
    {
     "name": "stdout",
     "output_type": "stream",
     "text": [
      "linear: 0.5511363636363636\n",
      "poly: 0.44612068965517243\n",
      "rbf: 0.5403605015673981\n",
      "sigmod: 0.23197492163009403\n"
     ]
    }
   ],
   "source": [
    "x_copy = MyPCA(data_vec,56)\n",
    "\n",
    "x_train, x_test, y_train, y_test = model_selection.train_test_split(x_copy,labels,\n",
    "                                                    test_size=0.3,random_state=1)\n",
    "\n",
    "classifier_linear = SVC(kernel='linear')\n",
    "classifier_poly = SVC(kernel='poly')\n",
    "classifier_rbf = SVC(kernel='rbf')\n",
    "classifier_sigmoid = SVC(kernel='sigmoid')\n",
    "\n",
    "history_linear = classifier_linear.fit(x_train,y_train)\n",
    "history_poly = classifier_poly.fit(x_train,y_train)\n",
    "history_rbf = classifier_rbf.fit(x_train,y_train)\n",
    "history_sigmoid = classifier_sigmoid.fit(x_train,y_train)\n",
    "\n",
    "score_linear = classifier_linear.score(x_test,y_test)\n",
    "score_poly = classifier_poly.score(x_test,y_test)\n",
    "score_rbf = classifier_rbf.score(x_test,y_test)\n",
    "score_sigmoid = classifier_sigmoid.score(x_test,y_test)\n",
    "\n",
    "print(\"linear:\",score_linear)\n",
    "print(\"poly:\",score_poly)\n",
    "print(\"rbf:\",score_rbf)\n",
    "print(\"sigmod:\",score_sigmoid)"
   ],
   "metadata": {
    "collapsed": false,
    "pycharm": {
     "name": "#%%\n"
    }
   }
  },
  {
   "cell_type": "code",
   "execution_count": 27,
   "outputs": [
    {
     "name": "stderr",
     "output_type": "stream",
     "text": [
      "100%|██████████| 9/9 [04:40<00:00, 31.18s/it]\n"
     ]
    }
   ],
   "source": [
    "from matplotlib import pyplot as plt\n",
    "from sklearn.svm import SVC\n",
    "from sklearn import model_selection\n",
    "\n",
    "feature_scale = np.arange(10,100,10)\n",
    "x_shape=[]\n",
    "scores = []\n",
    "scores_train=[]\n",
    "for i in tqdm(feature_scale):\n",
    "    x_copy = MyPCA(data_vec,int(i))\n",
    "\n",
    "    x_train, x_test, y_train, y_test = model_selection.train_test_split(x_copy,labels,\n",
    "                                                    test_size=0.3,random_state=1)\n",
    "\n",
    "    classifier = SVC(kernel='rbf')\n",
    "\n",
    "    history = classifier.fit(x_train,y_train)\n",
    "\n",
    "    score_train = classifier.score(x_train,y_train)\n",
    "\n",
    "    score = classifier.score(x_test,y_test)\n",
    "\n",
    "    x_shape.append(x_copy.shape[1])\n",
    "\n",
    "    scores.append(score)\n",
    "    scores_train.append(score_train)"
   ],
   "metadata": {
    "collapsed": false,
    "pycharm": {
     "name": "#%%\n"
    }
   }
  },
  {
   "cell_type": "code",
   "execution_count": 29,
   "outputs": [
    {
     "name": "stdout",
     "output_type": "stream",
     "text": [
      "[10 20 30 40 50 60 70 80 90] [0.5182210031347962, 0.5427115987460815, 0.5605407523510971, 0.5628918495297806, 0.5662225705329154, 0.5715125391849529, 0.5713166144200627, 0.5685736677115988, 0.5689655172413793]\n"
     ]
    }
   ],
   "source": [
    "print(feature_scale,scores)"
   ],
   "metadata": {
    "collapsed": false,
    "pycharm": {
     "name": "#%%\n"
    }
   }
  },
  {
   "cell_type": "code",
   "execution_count": 30,
   "outputs": [
    {
     "data": {
      "text/plain": "<Figure size 432x288 with 1 Axes>",
      "image/png": "[encoded data removed]"
     },
     "metadata": {
      "needs_background": "light"
     },
     "output_type": "display_data"
    }
   ],
   "source": [
    "max_index=np.argmax(scores)\n",
    "max_index_train=np.argmax(scores_train)\n",
    "plt.plot(feature_scale,scores,label='test')\n",
    "plt.plot(feature_scale,scores_train,label='train')\n",
    "plt.text(feature_scale[max_index],scores[max_index],(feature_scale[max_index],scores[max_index]),ha='center', va='bottom', fontsize=10)\n",
    "plt.text(feature_scale[max_index_train],scores_train[max_index_train],(feature_scale[max_index_train],scores_train[max_index_train]),ha='center', va='bottom', fontsize=10)\n",
    "plt.xlabel('number of feature')\n",
    "plt.ylabel('accuracy')\n",
    "plt.legend()\n",
    "plt.show()"
   ],
   "metadata": {
    "collapsed": false,
    "pycharm": {
     "name": "#%%\n"
    }
   }
  },
  {
   "cell_type": "code",
   "execution_count": 67,
   "outputs": [
    {
     "name": "stderr",
     "output_type": "stream",
     "text": [
      "100%|██████████| 10/10 [02:33<00:00, 15.33s/it]\n"
     ]
    }
   ],
   "source": [
    "from matplotlib import pyplot as plt\n",
    "from sklearn.svm import SVC\n",
    "from sklearn import model_selection\n",
    "\n",
    "feature_scale = np.arange(55,65,1)\n",
    "x_shape=[]\n",
    "scores = []\n",
    "for i in tqdm(feature_scale):\n",
    "    x_copy = MyPCA(data_vec,int(i))\n",
    "\n",
    "    x_train, x_test, y_train, y_test = model_selection.train_test_split(x_copy,labels,\n",
    "                                                    test_size=0.3,random_state=1)\n",
    "\n",
    "    classifier = SVC(kernel='rbf')\n",
    "\n",
    "    history = classifier.fit(x_train,y_train)\n",
    "\n",
    "    score = classifier.score(x_test,y_test)\n",
    "\n",
    "    x_shape.append(x_copy.shape[1])\n",
    "\n",
    "    scores.append(score)"
   ],
   "metadata": {
    "collapsed": false,
    "pycharm": {
     "name": "#%%\n"
    }
   }
  },
  {
   "cell_type": "code",
   "execution_count": 68,
   "outputs": [
    {
     "name": "stdout",
     "output_type": "stream",
     "text": [
      "[55 56 57 58 59 60 61 62 63 64] [0.5679858934169278, 0.5679858934169278, 0.5685736677115988, 0.5689655172413793, 0.5699451410658307, 0.5715125391849529, 0.5707288401253918, 0.5697492163009404, 0.5721003134796239, 0.5697492163009404]\n"
     ]
    }
   ],
   "source": [
    "print(feature_scale,scores)"
   ],
   "metadata": {
    "collapsed": false,
    "pycharm": {
     "name": "#%%\n"
    }
   }
  },
  {
   "cell_type": "code",
   "execution_count": 69,
   "outputs": [
    {
     "data": {
      "text/plain": "<Figure size 432x288 with 1 Axes>",
      "image/png": "[encoded data removed]"
     },
     "metadata": {
      "needs_background": "light"
     },
     "output_type": "display_data"
    }
   ],
   "source": [
    "max_index=np.argmax(scores)\n",
    "plt.plot(feature_scale,scores,label='test')\n",
    "plt.text(feature_scale[max_index],scores[max_index],(feature_scale[max_index],scores[max_index]),ha='center', va='bottom', fontsize=10)\n",
    "plt.xlabel('number of feature')\n",
    "plt.ylabel('accuracy')\n",
    "plt.legend()\n",
    "plt.show()"
   ],
   "metadata": {
    "collapsed": false,
    "pycharm": {
     "name": "#%%\n"
    }
   }
  },
  {
   "cell_type": "code",
   "execution_count": 83,
   "outputs": [
    {
     "data": {
      "text/plain": "<Figure size 432x288 with 1 Axes>",
      "image/png": "[encoded data removed]"
     },
     "metadata": {
      "needs_background": "light"
     },
     "output_type": "display_data"
    }
   ],
   "source": [
    "X=[55,56,57,58,59,60,61,62,63,64]\n",
    "rbf_Y=[0.5679858934169278, 0.5679858934169278, 0.5685736677115988, 0.5689655172413793, 0.5699451410658307, 0.5715125391849529, 0.5707288401253918, 0.5697492163009404, 0.5721003134796239, 0.5697492163009404]\n",
    "linear_Y=[0.5630877742946708, 0.5638714733542319, 0.5623040752351097, 0.5621081504702194, 0.5626959247648903, 0.5615203761755486, 0.5601489028213166, 0.5589733542319749, 0.5595611285266457, 0.5568181818181818]\n",
    "max_rbf=np.argmax(rbf_Y)\n",
    "max_linear=np.argmax(linear_Y)\n",
    "plt.plot(X,rbf_Y,label='rbf')\n",
    "plt.plot(X,linear_Y,label='linear')\n",
    "plt.text(X[max_rbf],rbf_Y[max_rbf],(X[max_rbf],rbf_Y[max_rbf]),ha='center', va='bottom', fontsize=10)\n",
    "plt.text(X[max_linear],linear_Y[max_linear],(X[max_linear],linear_Y[max_linear]),ha='center', va='bottom', fontsize=10)\n",
    "plt.xlabel('number of feature')\n",
    "plt.ylabel('accuracy')\n",
    "plt.legend()\n",
    "plt.savefig(\"lin~rbf.png\")\n",
    "plt.show()"
   ],
   "metadata": {
    "collapsed": false,
    "pycharm": {
     "name": "#%%\n"
    }
   }
  },
  {
   "cell_type": "code",
   "execution_count": 70,
   "outputs": [
    {
     "name": "stderr",
     "output_type": "stream",
     "text": [
      "100%|██████████| 12/12 [03:28<00:00, 17.41s/it]\n"
     ]
    }
   ],
   "source": [
    "C_scale = [0.001,0.01,0.1,0.2,0.3,0.4,0.5,0.6,0.7,0.8,0.9,1]\n",
    "scores = []\n",
    "x_copy = MyPCA(data_vec,int(63))\n",
    "x_train, x_test, y_train, y_test = model_selection.train_test_split(x_copy,labels,\n",
    "                                                    test_size=0.3,random_state=1)\n",
    "for i in tqdm(C_scale):\n",
    "\n",
    "    classifier = SVC(C=i,kernel='rbf')\n",
    "\n",
    "    history = classifier.fit(x_train,y_train)\n",
    "\n",
    "    score = classifier.score(x_test,y_test)\n",
    "\n",
    "    scores.append(score)\n"
   ],
   "metadata": {
    "collapsed": false,
    "pycharm": {
     "name": "#%%\n"
    }
   }
  },
  {
   "cell_type": "code",
   "execution_count": 71,
   "outputs": [
    {
     "name": "stdout",
     "output_type": "stream",
     "text": [
      "[0.001, 0.01, 0.1, 0.2, 0.3, 0.4, 0.5, 0.6, 0.7, 0.8, 0.9, 1] [0.25587774294670845, 0.3802899686520376, 0.49823667711598746, 0.5338949843260188, 0.5478056426332288, 0.5581896551724138, 0.5611285266457681, 0.5638714733542319, 0.5672021943573667, 0.5685736677115988, 0.5707288401253918, 0.5721003134796239]\n"
     ]
    }
   ],
   "source": [
    "print(C_scale,scores)"
   ],
   "metadata": {
    "collapsed": false,
    "pycharm": {
     "name": "#%%\n"
    }
   }
  },
  {
   "cell_type": "code",
   "execution_count": 72,
   "outputs": [
    {
     "data": {
      "text/plain": "<Figure size 432x288 with 1 Axes>",
      "image/png": "[encoded data removed]"
     },
     "metadata": {
      "needs_background": "light"
     },
     "output_type": "display_data"
    }
   ],
   "source": [
    "max_index=np.argmax(scores)\n",
    "plt.plot(C_scale,scores)\n",
    "plt.text(C_scale[max_index],scores[max_index],(C_scale[max_index],scores[max_index]),ha='center', va='bottom', fontsize=10)\n",
    "plt.xlabel('number of C')\n",
    "plt.ylabel('accuracy')\n",
    "plt.show()"
   ],
   "metadata": {
    "collapsed": false,
    "pycharm": {
     "name": "#%%\n"
    }
   }
  },
  {
   "cell_type": "code",
   "execution_count": 73,
   "outputs": [
    {
     "name": "stdout",
     "output_type": "stream",
     "text": [
      "auto: 0.4947100313479624\n",
      "scale: 0.5721003134796239\n"
     ]
    }
   ],
   "source": [
    "x_copy = MyPCA(data_vec,63)\n",
    "\n",
    "x_train, x_test, y_train, y_test = model_selection.train_test_split(x_copy,labels,\n",
    "                                                    test_size=0.3,random_state=1)\n",
    "\n",
    "classifier_auto = SVC(C=1,kernel='rbf',gamma='auto')\n",
    "classifier_scale = SVC(C=1,kernel='rbf',gamma='scale')\n",
    "\n",
    "\n",
    "history_auto = classifier_auto.fit(x_train,y_train)\n",
    "history_scale = classifier_scale.fit(x_train,y_train)\n",
    "\n",
    "\n",
    "score_auto = classifier_auto.score(x_test,y_test)\n",
    "score_scale = classifier_scale.score(x_test,y_test)\n",
    "\n",
    "print(\"auto:\",score_auto)\n",
    "print(\"scale:\",score_scale)"
   ],
   "metadata": {
    "collapsed": false,
    "pycharm": {
     "name": "#%%\n"
    }
   }
  },
  {
   "cell_type": "code",
   "execution_count": 85,
   "outputs": [
    {
     "name": "stderr",
     "output_type": "stream",
     "text": [
      "100%|██████████| 5/5 [06:40<00:00, 80.07s/it]\n"
     ]
    }
   ],
   "source": [
    "gamma = [0.001,0.01,0.5,1,5]\n",
    "scores_train = []\n",
    "scores_test = []\n",
    "x_copy = MyPCA(data_vec,int(63))\n",
    "x_train, x_test, y_train, y_test = model_selection.train_test_split(x_copy,labels,\n",
    "                                                    test_size=0.3,random_state=1)\n",
    "for i in tqdm(gamma):\n",
    "\n",
    "    classifier = SVC(C=i,kernel='rbf',gamma=i)\n",
    "\n",
    "    history = classifier.fit(x_train,y_train)\n",
    "\n",
    "    score_train = classifier.score(x_train,y_train)\n",
    "    score_test = classifier.score(x_test,y_test)\n",
    "\n",
    "    scores_train.append(score_train)\n",
    "    scores_test.append(score_test)\n"
   ],
   "metadata": {
    "collapsed": false,
    "pycharm": {
     "name": "#%%\n"
    }
   }
  },
  {
   "cell_type": "code",
   "execution_count": 88,
   "outputs": [
    {
     "name": "stdout",
     "output_type": "stream",
     "text": [
      "[0.26559744730875806, 0.22529179612058106, 0.35275841800319085, 0.9992442690402217, 0.9992442690402217]\n",
      "[0.25999216300940436, 0.21845611285266459, 0.18025078369905956, 0.18083855799373041, 0.18025078369905956]\n"
     ]
    }
   ],
   "source": [
    "print(scores_train)\n",
    "print(scores_test)"
   ],
   "metadata": {
    "collapsed": false,
    "pycharm": {
     "name": "#%%\n"
    }
   }
  },
  {
   "cell_type": "code",
   "execution_count": 87,
   "outputs": [
    {
     "data": {
      "text/plain": "<Figure size 432x288 with 1 Axes>",
      "image/png": "[encoded data removed]"
     },
     "metadata": {
      "needs_background": "light"
     },
     "output_type": "display_data"
    }
   ],
   "source": [
    "max_index=np.argmax(scores_train)\n",
    "max_index_test=np.argmax(scores_test)\n",
    "plt.plot(gamma,scores_train)\n",
    "plt.plot(gamma,scores_test)\n",
    "plt.text(gamma[max_index],scores_train[max_index],(gamma[max_index],scores_train[max_index]),ha='center', va='bottom', fontsize=10)\n",
    "plt.text(gamma[max_index_test],scores_test[max_index_test],(gamma[max_index_test],scores_test[max_index_test]),ha='center', va='bottom', fontsize=10)\n",
    "plt.xlabel('number of gamma')\n",
    "plt.ylabel('accuracy')\n",
    "plt.savefig(\"gamma.png\")\n",
    "plt.show()"
   ],
   "metadata": {
    "collapsed": false,
    "pycharm": {
     "name": "#%%\n"
    }
   }
  },
  {
   "cell_type": "markdown",
   "source": [
    "random forest"
   ],
   "metadata": {
    "collapsed": false
   }
  },
  {
   "cell_type": "code",
   "execution_count": 38,
   "outputs": [],
   "source": [
    "from sklearn.tree import DecisionTreeClassifier\n",
    "from sklearn.model_selection import cross_val_score\n",
    "from sklearn.ensemble import RandomForestClassifier\n",
    "from tqdm import tqdm"
   ],
   "metadata": {
    "collapsed": false,
    "pycharm": {
     "name": "#%%\n"
    }
   }
  },
  {
   "cell_type": "markdown",
   "source": [
    "n_estimators"
   ],
   "metadata": {
    "collapsed": false
   }
  },
  {
   "cell_type": "code",
   "execution_count": 39,
   "outputs": [
    {
     "name": "stdout",
     "output_type": "stream",
     "text": [
      "(17013,)\n"
     ]
    }
   ],
   "source": [
    "print(labels.shape)"
   ],
   "metadata": {
    "collapsed": false,
    "pycharm": {
     "name": "#%%\n"
    }
   }
  },
  {
   "cell_type": "code",
   "execution_count": 96,
   "outputs": [
    {
     "name": "stderr",
     "output_type": "stream",
     "text": [
      "100%|██████████| 20/20 [08:35<00:00, 25.77s/it]\n"
     ]
    }
   ],
   "source": [
    "scores = []\n",
    "x_copy=MyPCA(data_vec,63)\n",
    "x_train, x_test, y_train, y_test = model_selection.train_test_split(x_copy,labels,\n",
    "                                                    test_size=0.3,random_state=1)\n",
    "n_est = np.arange(1,201,10)\n",
    "for i in tqdm(n_est):\n",
    "    rfc = RandomForestClassifier(n_estimators=i)\n",
    "    history = rfc.fit(x_train,y_train)\n",
    "    score = rfc.score(x_test,y_test)\n",
    "    # score = cross_val_score(rfc, x_train, y_train, cv=10).mean()\n",
    "    scores.append(score)\n"
   ],
   "metadata": {
    "collapsed": false,
    "pycharm": {
     "name": "#%%\n"
    }
   }
  },
  {
   "cell_type": "code",
   "execution_count": 90,
   "outputs": [
    {
     "data": {
      "text/plain": "<Figure size 432x288 with 1 Axes>",
      "image/png": "[encoded data removed]"
     },
     "metadata": {
      "needs_background": "light"
     },
     "output_type": "display_data"
    }
   ],
   "source": [
    "max_index=np.argmax(scores)\n",
    "plt.plot(n_est,scores)\n",
    "plt.text(n_est[max_index],scores[max_index],(n_est[max_index],scores[max_index]),ha='center', va='bottom', fontsize=10)\n",
    "plt.xlabel('number of estimators')\n",
    "plt.ylabel('accuracy')\n",
    "plt.savefig(\"extimate.png\")\n",
    "plt.show()"
   ],
   "metadata": {
    "collapsed": false,
    "pycharm": {
     "name": "#%%\n"
    }
   }
  },
  {
   "cell_type": "code",
   "execution_count": 91,
   "outputs": [
    {
     "name": "stderr",
     "output_type": "stream",
     "text": [
      "100%|██████████| 10/10 [02:31<00:00, 15.19s/it]\n"
     ]
    }
   ],
   "source": [
    "n_est = np.arange(n_est[max_index]-5,n_est[max_index]+5,1)\n",
    "scores=[]\n",
    "for i in tqdm(n_est):\n",
    "    rfc = RandomForestClassifier(n_estimators=i)\n",
    "    history = rfc.fit(x_train,y_train)\n",
    "    score = rfc.score(x_test,y_test)\n",
    "    scores.append(score)"
   ],
   "metadata": {
    "collapsed": false,
    "pycharm": {
     "name": "#%%\n"
    }
   }
  },
  {
   "cell_type": "code",
   "execution_count": 94,
   "outputs": [
    {
     "name": "stdout",
     "output_type": "stream",
     "text": [
      "[146 147 148 149 150 151 152 153 154 155] [0.5358542319749217, 0.5378134796238244, 0.5372257053291536, 0.5335031347962382, 0.539576802507837, 0.5403605015673981, 0.5299764890282131, 0.5317398119122257, 0.524294670846395, 0.5336990595611285]\n"
     ]
    }
   ],
   "source": [
    "print(n_est,scores)"
   ],
   "metadata": {
    "collapsed": false,
    "pycharm": {
     "name": "#%%\n"
    }
   }
  },
  {
   "cell_type": "code",
   "execution_count": 95,
   "outputs": [
    {
     "data": {
      "text/plain": "<Figure size 432x288 with 1 Axes>",
      "image/png": "[encoded data removed]"
     },
     "metadata": {
      "needs_background": "light"
     },
     "output_type": "display_data"
    }
   ],
   "source": [
    "max_index=np.argmax(scores)\n",
    "plt.plot(n_est,scores)\n",
    "plt.text(n_est[max_index],scores[max_index],(n_est[max_index],scores[max_index]),ha='center', va='bottom', fontsize=10)\n",
    "plt.xlabel('number of estimators')\n",
    "plt.ylabel('accuracy')\n",
    "plt.savefig(\"extimate_151.png\")\n",
    "plt.show()"
   ],
   "metadata": {
    "collapsed": false,
    "pycharm": {
     "name": "#%%\n"
    }
   }
  },
  {
   "cell_type": "markdown",
   "source": [
    "max_depth"
   ],
   "metadata": {
    "collapsed": false
   }
  },
  {
   "cell_type": "code",
   "execution_count": 52,
   "outputs": [
    {
     "name": "stderr",
     "output_type": "stream",
     "text": [
      "100%|██████████| 20/20 [04:26<00:00, 13.30s/it]\n"
     ]
    }
   ],
   "source": [
    "scores = []\n",
    "\n",
    "max_depth = np.arange(10,30,1)\n",
    "for i in tqdm(max_depth):\n",
    "    rfc = RandomForestClassifier(n_estimators=173,max_depth=i)\n",
    "    history = rfc.fit(x_train,y_train)\n",
    "    score = rfc.score(x_test,y_test)\n",
    "    scores.append(score)"
   ],
   "metadata": {
    "collapsed": false,
    "pycharm": {
     "name": "#%%\n"
    }
   }
  },
  {
   "cell_type": "code",
   "execution_count": 53,
   "outputs": [
    {
     "name": "stdout",
     "output_type": "stream",
     "text": [
      "[10 11 12 13 14 15 16 17 18 19 20 21 22 23 24 25 26 27 28 29] [0.5321316614420063, 0.5311520376175548, 0.5278213166144201, 0.5338949843260188, 0.5446708463949843, 0.5358542319749217, 0.5356583072100314, 0.5288009404388715, 0.5344827586206896, 0.5313479623824452, 0.542319749216301, 0.531935736677116, 0.5364420062695925, 0.5384012539184952, 0.5301724137931034, 0.5325235109717869, 0.5446708463949843, 0.5354623824451411, 0.538205329153605, 0.5346786833855799]\n"
     ]
    }
   ],
   "source": [
    "print(max_depth,scores)"
   ],
   "metadata": {
    "collapsed": false,
    "pycharm": {
     "name": "#%%\n"
    }
   }
  },
  {
   "cell_type": "code",
   "execution_count": 54,
   "outputs": [
    {
     "data": {
      "text/plain": "<Figure size 432x288 with 1 Axes>",
      "image/png": "[encoded data removed]"
     },
     "metadata": {
      "needs_background": "light"
     },
     "output_type": "display_data"
    }
   ],
   "source": [
    "max_index=np.argmax(scores)\n",
    "plt.plot(max_depth,scores)\n",
    "plt.text(max_depth[max_index],scores[max_index],(max_depth[max_index],scores[max_index]),ha='center', va='bottom', fontsize=10)\n",
    "plt.xlabel('number of max_depth')\n",
    "plt.ylabel('accuracy')\n",
    "plt.show()"
   ],
   "metadata": {
    "collapsed": false,
    "pycharm": {
     "name": "#%%\n"
    }
   }
  },
  {
   "cell_type": "markdown",
   "source": [
    "max_feature"
   ],
   "metadata": {
    "collapsed": false
   }
  },
  {
   "cell_type": "code",
   "execution_count": 55,
   "outputs": [
    {
     "name": "stderr",
     "output_type": "stream",
     "text": [
      "100%|██████████| 21/21 [15:09<00:00, 43.30s/it]\n"
     ]
    },
    {
     "name": "stdout",
     "output_type": "stream",
     "text": [
      "auto: 0.5317398119122257\n",
      "log2: 0.5360501567398119\n",
      "sqrt: 0.5350705329153606\n"
     ]
    }
   ],
   "source": [
    "scores = []\n",
    "\n",
    "max_feature = np.arange(20,41,1)\n",
    "for i in tqdm(max_feature):\n",
    "    rfc = RandomForestClassifier(n_estimators=173,max_depth=max_depth[max_index],max_features=i)\n",
    "    history = rfc.fit(x_train,y_train)\n",
    "    score = rfc.score(x_test,y_test)\n",
    "    scores.append(score)\n",
    "\n",
    "rfc_auto=RandomForestClassifier(n_estimators=173,max_depth=max_depth[max_index],max_features='auto')\n",
    "rfc_log2=RandomForestClassifier(n_estimators=173,max_depth=max_depth[max_index],max_features='log2')\n",
    "rfc_sqrt=RandomForestClassifier(n_estimators=173,max_depth=max_depth[max_index],max_features='sqrt')\n",
    "\n",
    "history_auto = rfc_auto.fit(x_train,y_train)\n",
    "history_log2 = rfc_log2.fit(x_train,y_train)\n",
    "history_sqrt = rfc_sqrt.fit(x_train,y_train)\n",
    "\n",
    "print('auto:',rfc_auto.score(x_test,y_test))\n",
    "print('log2:',rfc_log2.score(x_test,y_test))\n",
    "print('sqrt:',rfc_sqrt.score(x_test,y_test))"
   ],
   "metadata": {
    "collapsed": false,
    "pycharm": {
     "name": "#%%\n"
    }
   }
  },
  {
   "cell_type": "code",
   "execution_count": 56,
   "outputs": [
    {
     "name": "stdout",
     "output_type": "stream",
     "text": [
      "[20 21 22 23 24 25 26 27 28 29 30 31 32 33 34 35 36 37 38 39 40] [0.5384012539184952, 0.5286050156739812, 0.5352664576802508, 0.5362460815047022, 0.5288009404388715, 0.5421238244514106, 0.5303683385579937, 0.5295846394984326, 0.5311520376175548, 0.5260579937304075, 0.522923197492163, 0.5293887147335423, 0.5280172413793104, 0.5278213166144201, 0.5317398119122257, 0.5307601880877743, 0.5297805642633229, 0.5325235109717869, 0.5293887147335423, 0.5274294670846394, 0.5288009404388715]\n"
     ]
    }
   ],
   "source": [
    "print(max_feature,scores)"
   ],
   "metadata": {
    "collapsed": false,
    "pycharm": {
     "name": "#%%\n"
    }
   }
  },
  {
   "cell_type": "code",
   "execution_count": 57,
   "outputs": [
    {
     "data": {
      "text/plain": "<Figure size 432x288 with 1 Axes>",
      "image/png": "[encoded data removed]"
     },
     "metadata": {
      "needs_background": "light"
     },
     "output_type": "display_data"
    }
   ],
   "source": [
    "max_index=np.argmax(scores)\n",
    "plt.plot(max_feature,scores)\n",
    "plt.text(max_feature[max_index],scores[max_index],(max_feature[max_index],scores[max_index]),ha='center', va='bottom', fontsize=10)\n",
    "plt.xlabel('number of max_features')\n",
    "plt.ylabel('accuracy')\n",
    "plt.show()"
   ],
   "metadata": {
    "collapsed": false,
    "pycharm": {
     "name": "#%%\n"
    }
   }
  },
  {
   "cell_type": "markdown",
   "source": [
    "AdaBoosting"
   ],
   "metadata": {
    "collapsed": false
   }
  },
  {
   "cell_type": "code",
   "execution_count": 58,
   "outputs": [
    {
     "name": "stderr",
     "output_type": "stream",
     "text": [
      "100%|██████████| 18/18 [15:08<00:00, 50.47s/it]\n"
     ]
    }
   ],
   "source": [
    "from sklearn.tree import DecisionTreeClassifier\n",
    "from sklearn.ensemble import AdaBoostClassifier\n",
    "from sklearn.model_selection import cross_val_predict\n",
    "from sklearn.metrics import *\n",
    "from sklearn.metrics import mean_absolute_error\n",
    "from sklearn.metrics import mean_squared_error\n",
    "import warnings\n",
    "from sklearn.metrics import accuracy_score\n",
    "from sklearn.metrics import precision_score\n",
    "from sklearn.metrics import recall_score\n",
    "from sklearn.metrics import f1_score\n",
    "# warnings.filterwarnings('ignore')\n",
    "# depth = np.linspace(20,50,31)\n",
    "depth = np.arange(20,200,10)\n",
    "mae=[]\n",
    "mse=[]\n",
    "accuracy=[]\n",
    "for i in tqdm(depth):\n",
    "    clf=DecisionTreeClassifier(max_depth=i,min_samples_split=20,min_samples_leaf=5)\n",
    "    AdaBoostClf=AdaBoostClassifier(clf)\n",
    "    AdaBoostClf.fit(x_train,y_train)\n",
    "    prediction1=AdaBoostClf.predict(x_test)\n",
    "    mae.append(mean_absolute_error(y_test,prediction1))\n",
    "    mse.append(mean_squared_error(y_test,prediction1))\n",
    "    accuracy.append(accuracy_score(y_test,prediction1))"
   ],
   "metadata": {
    "collapsed": false,
    "pycharm": {
     "name": "#%%\n"
    }
   }
  },
  {
   "cell_type": "code",
   "execution_count": 59,
   "outputs": [
    {
     "name": "stdout",
     "output_type": "stream",
     "text": [
      "[ 20  30  40  50  60  70  80  90 100 110 120 130 140 150 160 170 180 190] [1.0385971786833856, 1.0266457680250785, 1.0233150470219436, 1.0045062695924765, 1.0501567398119123, 1.0213557993730407, 1.0070532915360502, 1.0154780564263324, 1.025078369905956, 1.0121473354231976, 1.0276253918495297, 1.025666144200627, 1.0325235109717867, 1.0356583072100314, 1.0219435736677116, 1.006269592476489, 0.9925548589341693, 1.0427115987460815]\n",
      "[ 20  30  40  50  60  70  80  90 100 110 120 130 140 150 160 170 180 190] [2.730603448275862, 2.6955329153605017, 2.70826802507837, 2.6189263322884013, 2.8197492163009406, 2.707876175548589, 2.677115987460815, 2.6408699059561127, 2.6931818181818183, 2.674373040752351, 2.721590909090909, 2.7004310344827585, 2.740203761755486, 2.7010188087774294, 2.6849529780564265, 2.635579937304075, 2.554858934169279, 2.7782131661442007]\n"
     ]
    }
   ],
   "source": [
    "print(depth, mae)\n",
    "print(depth, mse)"
   ],
   "metadata": {
    "collapsed": false,
    "pycharm": {
     "name": "#%%\n"
    }
   }
  },
  {
   "cell_type": "code",
   "execution_count": 60,
   "outputs": [
    {
     "data": {
      "text/plain": "<Figure size 432x288 with 1 Axes>",
      "image/png": "[encoded data removed]"
     },
     "metadata": {
      "needs_background": "light"
     },
     "output_type": "display_data"
    }
   ],
   "source": [
    "plt.plot(depth, mae, label='mean_absolute_error')\n",
    "plt.plot(depth, mse, label='mean_squared_error')\n",
    "plt.xlabel('number of depth')\n",
    "plt.ylabel('accuracy')\n",
    "plt.legend()\n",
    "plt.show()\n"
   ],
   "metadata": {
    "collapsed": false,
    "pycharm": {
     "name": "#%%\n"
    }
   }
  },
  {
   "cell_type": "code",
   "execution_count": 61,
   "outputs": [
    {
     "name": "stdout",
     "output_type": "stream",
     "text": [
      "[ 20  30  40  50  60  70  80  90 100 110 120 130 140 150 160 170 180 190] [0.4659090909090909, 0.47355015673981193, 0.4753134796238245, 0.4782523510971787, 0.46747648902821315, 0.47335423197492166, 0.4855015673981191, 0.46943573667711597, 0.47100313479623823, 0.47844827586206895, 0.47511755485893414, 0.47198275862068967, 0.4725705329153605, 0.46532131661442006, 0.47002351097178685, 0.47981974921630094, 0.4782523510971787, 0.4715909090909091]\n"
     ]
    }
   ],
   "source": [
    "print(depth, accuracy)"
   ],
   "metadata": {
    "collapsed": false,
    "pycharm": {
     "name": "#%%\n"
    }
   }
  },
  {
   "cell_type": "code",
   "execution_count": 62,
   "outputs": [
    {
     "data": {
      "text/plain": "<Figure size 432x288 with 1 Axes>",
      "image/png": "[encoded data removed]"
     },
     "metadata": {
      "needs_background": "light"
     },
     "output_type": "display_data"
    }
   ],
   "source": [
    "max_index = np.argmax(accuracy)\n",
    "plt.plot(depth, accuracy, label='accuracy')\n",
    "plt.xlabel('number of depth')\n",
    "plt.text(depth[max_index], accuracy[max_index], (depth[max_index], accuracy[max_index]), ha='center', va='bottom',\n",
    "         fontsize=10)\n",
    "plt.legend()\n",
    "plt.show()"
   ],
   "metadata": {
    "collapsed": false,
    "pycharm": {
     "name": "#%%\n"
    }
   }
  },
  {
   "cell_type": "code",
   "execution_count": 63,
   "outputs": [
    {
     "name": "stderr",
     "output_type": "stream",
     "text": [
      "100%|██████████| 10/10 [07:44<00:00, 46.44s/it]\n"
     ]
    }
   ],
   "source": [
    "depth = np.arange(depth[max_index]-5,depth[max_index]+5,1)\n",
    "mae=[]\n",
    "mse=[]\n",
    "accuracy=[]\n",
    "for i in tqdm(depth):\n",
    "    clf=DecisionTreeClassifier(max_depth=i,min_samples_split=20,min_samples_leaf=5)\n",
    "    AdaBoostClf=AdaBoostClassifier(clf)\n",
    "    AdaBoostClf.fit(x_train,y_train)\n",
    "    prediction1=AdaBoostClf.predict(x_test)\n",
    "    mae.append(mean_absolute_error(y_test,prediction1))\n",
    "    mse.append(mean_squared_error(y_test,prediction1))\n",
    "    accuracy.append(accuracy_score(y_test,prediction1))"
   ],
   "metadata": {
    "collapsed": false,
    "pycharm": {
     "name": "#%%\n"
    }
   }
  },
  {
   "cell_type": "code",
   "execution_count": 75,
   "outputs": [
    {
     "name": "stdout",
     "output_type": "stream",
     "text": [
      "[75 76 77 78 79 80 81 82 83 84] [1.0188087774294672, 1.0438871473354232, 1.0070532915360502, 1.0282131661442007, 1.0237068965517242, 1.029192789968652, 1.026253918495298, 1.0284090909090908, 1.0372257053291536, 1.0244905956112853]\n",
      "[75 76 77 78 79 80 81 82 83 84] [2.6434169278996866, 2.769592476489028, 2.6391065830721003, 2.7233542319749215, 2.737656739811912, 2.6969043887147337, 2.7331504702194356, 2.707484326018809, 2.741771159874608, 2.6949451410658307]\n"
     ]
    }
   ],
   "source": [
    "print(depth, mae)\n",
    "print(depth, mse)"
   ],
   "metadata": {
    "collapsed": false,
    "pycharm": {
     "name": "#%%\n"
    }
   }
  },
  {
   "cell_type": "code",
   "execution_count": 80,
   "outputs": [
    {
     "data": {
      "text/plain": "<Figure size 432x288 with 1 Axes>",
      "image/png": "[encoded data removed]"
     },
     "metadata": {
      "needs_background": "light"
     },
     "output_type": "display_data"
    }
   ],
   "source": [
    "min_index = np.argmin(mse)\n",
    "plt.plot(depth, mae, label='mean_absolute_error')\n",
    "plt.plot(depth, mse, label='mean_squared_error')\n",
    "plt.text(depth[min_index], mse[min_index], (depth[min_index], mse[min_index]), ha='center', va='bottom',\n",
    "         fontsize=10)\n",
    "plt.xlabel('number of depth')\n",
    "plt.ylabel('accuracy')\n",
    "plt.legend()\n",
    "plt.savefig(\"mse_mae.png\")\n",
    "plt.show()\n"
   ],
   "metadata": {
    "collapsed": false,
    "pycharm": {
     "name": "#%%\n"
    }
   }
  },
  {
   "cell_type": "code",
   "execution_count": 81,
   "outputs": [
    {
     "name": "stdout",
     "output_type": "stream",
     "text": [
      "[75 76 77 78 79 80 81 82 83 84] [0.4704153605015674, 0.46551724137931033, 0.4827586206896552, 0.4727664576802508, 0.4800156739811912, 0.4692398119122257, 0.47492163009404387, 0.4713949843260188, 0.4692398119122257, 0.47198275862068967]\n"
     ]
    }
   ],
   "source": [
    "print(depth, accuracy)"
   ],
   "metadata": {
    "collapsed": false,
    "pycharm": {
     "name": "#%%\n"
    }
   }
  },
  {
   "cell_type": "code",
   "execution_count": 82,
   "outputs": [
    {
     "data": {
      "text/plain": "<Figure size 432x288 with 1 Axes>",
      "image/png": "[encoded data removed]"
     },
     "metadata": {
      "needs_background": "light"
     },
     "output_type": "display_data"
    }
   ],
   "source": [
    "max_index = np.argmax(accuracy)\n",
    "plt.plot(depth, accuracy, label='accuracy')\n",
    "plt.xlabel('number of depth')\n",
    "plt.text(depth[max_index], accuracy[max_index], (depth[max_index], accuracy[max_index]), ha='center', va='bottom',\n",
    "         fontsize=10)\n",
    "plt.legend()\n",
    "plt.savefig(\"ada_accu.png\")\n",
    "plt.show()"
   ],
   "metadata": {
    "collapsed": false,
    "pycharm": {
     "name": "#%%\n"
    }
   }
  },
  {
   "cell_type": "markdown",
   "source": [
    "KNN"
   ],
   "metadata": {
    "collapsed": false
   }
  },
  {
   "cell_type": "code",
   "execution_count": 104,
   "outputs": [
    {
     "name": "stdout",
     "output_type": "stream",
     "text": [
      "k = 1\n",
      "[1 1 1 ... 1 0 4]\n",
      "              precision    recall  f1-score   support\n",
      "\n",
      "           0       0.35      0.38      0.36       871\n",
      "           1       0.40      0.28      0.33       807\n",
      "           2       0.53      0.64      0.58       784\n",
      "           3       0.32      0.31      0.31       867\n",
      "           4       0.37      0.43      0.40       921\n",
      "           5       0.40      0.35      0.37       854\n",
      "\n",
      "    accuracy                           0.40      5104\n",
      "   macro avg       0.40      0.40      0.39      5104\n",
      "weighted avg       0.39      0.40      0.39      5104\n",
      "\n",
      "accuracy = 0.396160\n",
      "update: k = 1, accuracy = 0.396160\n",
      "k = 2\n",
      "[1 1 1 ... 1 0 4]\n",
      "              precision    recall  f1-score   support\n",
      "\n",
      "           0       0.32      0.56      0.41       871\n",
      "           1       0.34      0.29      0.31       807\n",
      "           2       0.54      0.59      0.57       784\n",
      "           3       0.34      0.38      0.36       867\n",
      "           4       0.41      0.34      0.37       921\n",
      "           5       0.62      0.20      0.30       854\n",
      "\n",
      "    accuracy                           0.39      5104\n",
      "   macro avg       0.43      0.40      0.39      5104\n",
      "weighted avg       0.43      0.39      0.39      5104\n",
      "\n",
      "accuracy = 0.393221\n",
      "k = 3\n",
      "[3 1 1 ... 3 0 4]\n",
      "              precision    recall  f1-score   support\n",
      "\n",
      "           0       0.33      0.53      0.41       871\n",
      "           1       0.38      0.27      0.32       807\n",
      "           2       0.57      0.70      0.63       784\n",
      "           3       0.37      0.32      0.34       867\n",
      "           4       0.43      0.40      0.41       921\n",
      "           5       0.53      0.33      0.41       854\n",
      "\n",
      "    accuracy                           0.42      5104\n",
      "   macro avg       0.43      0.43      0.42      5104\n",
      "weighted avg       0.43      0.42      0.42      5104\n",
      "\n",
      "accuracy = 0.423197\n",
      "update: k = 3, accuracy = 0.423197\n",
      "k = 4\n",
      "[3 1 4 ... 3 0 4]\n",
      "              precision    recall  f1-score   support\n",
      "\n",
      "           0       0.35      0.51      0.42       871\n",
      "           1       0.48      0.28      0.36       807\n",
      "           2       0.58      0.73      0.65       784\n",
      "           3       0.37      0.34      0.35       867\n",
      "           4       0.42      0.46      0.44       921\n",
      "           5       0.52      0.35      0.42       854\n",
      "\n",
      "    accuracy                           0.44      5104\n",
      "   macro avg       0.45      0.45      0.44      5104\n",
      "weighted avg       0.45      0.44      0.44      5104\n",
      "\n",
      "accuracy = 0.443770\n",
      "update: k = 4, accuracy = 0.443770\n",
      "k = 5\n",
      "[3 1 4 ... 3 0 4]\n",
      "              precision    recall  f1-score   support\n",
      "\n",
      "           0       0.37      0.49      0.42       871\n",
      "           1       0.47      0.27      0.35       807\n",
      "           2       0.59      0.74      0.65       784\n",
      "           3       0.37      0.37      0.37       867\n",
      "           4       0.41      0.46      0.43       921\n",
      "           5       0.54      0.36      0.44       854\n",
      "\n",
      "    accuracy                           0.45      5104\n",
      "   macro avg       0.46      0.45      0.44      5104\n",
      "weighted avg       0.45      0.45      0.44      5104\n",
      "\n",
      "accuracy = 0.447688\n",
      "update: k = 5, accuracy = 0.447688\n",
      "k = 6\n",
      "[3 1 4 ... 3 0 4]\n",
      "              precision    recall  f1-score   support\n",
      "\n",
      "           0       0.38      0.51      0.43       871\n",
      "           1       0.47      0.25      0.33       807\n",
      "           2       0.57      0.74      0.64       784\n",
      "           3       0.39      0.38      0.39       867\n",
      "           4       0.41      0.48      0.44       921\n",
      "           5       0.55      0.36      0.43       854\n",
      "\n",
      "    accuracy                           0.45      5104\n",
      "   macro avg       0.46      0.45      0.44      5104\n",
      "weighted avg       0.46      0.45      0.44      5104\n",
      "\n",
      "accuracy = 0.451411\n",
      "update: k = 6, accuracy = 0.451411\n",
      "k = 7\n",
      "[3 1 4 ... 3 0 4]\n",
      "              precision    recall  f1-score   support\n",
      "\n",
      "           0       0.37      0.51      0.43       871\n",
      "           1       0.47      0.25      0.32       807\n",
      "           2       0.57      0.75      0.65       784\n",
      "           3       0.41      0.37      0.39       867\n",
      "           4       0.41      0.50      0.45       921\n",
      "           5       0.56      0.37      0.44       854\n",
      "\n",
      "    accuracy                           0.45      5104\n",
      "   macro avg       0.46      0.46      0.45      5104\n",
      "weighted avg       0.46      0.45      0.45      5104\n",
      "\n",
      "accuracy = 0.454937\n",
      "update: k = 7, accuracy = 0.454937\n",
      "k = 8\n",
      "[3 1 4 ... 3 0 4]\n",
      "              precision    recall  f1-score   support\n",
      "\n",
      "           0       0.38      0.51      0.43       871\n",
      "           1       0.49      0.24      0.32       807\n",
      "           2       0.58      0.76      0.66       784\n",
      "           3       0.41      0.38      0.40       867\n",
      "           4       0.40      0.50      0.45       921\n",
      "           5       0.56      0.37      0.44       854\n",
      "\n",
      "    accuracy                           0.46      5104\n",
      "   macro avg       0.47      0.46      0.45      5104\n",
      "weighted avg       0.47      0.46      0.45      5104\n",
      "\n",
      "accuracy = 0.457876\n",
      "update: k = 8, accuracy = 0.457876\n",
      "k = 9\n",
      "[3 1 4 ... 4 0 4]\n",
      "              precision    recall  f1-score   support\n",
      "\n",
      "           0       0.39      0.50      0.44       871\n",
      "           1       0.52      0.25      0.34       807\n",
      "           2       0.58      0.77      0.66       784\n",
      "           3       0.42      0.37      0.39       867\n",
      "           4       0.40      0.52      0.45       921\n",
      "           5       0.57      0.39      0.47       854\n",
      "\n",
      "    accuracy                           0.46      5104\n",
      "   macro avg       0.48      0.47      0.46      5104\n",
      "weighted avg       0.48      0.46      0.46      5104\n",
      "\n",
      "accuracy = 0.464929\n",
      "update: k = 9, accuracy = 0.464929\n",
      "k = 10\n",
      "[3 1 4 ... 3 0 4]\n",
      "              precision    recall  f1-score   support\n",
      "\n",
      "           0       0.38      0.49      0.43       871\n",
      "           1       0.51      0.24      0.32       807\n",
      "           2       0.58      0.77      0.66       784\n",
      "           3       0.43      0.39      0.41       867\n",
      "           4       0.41      0.54      0.46       921\n",
      "           5       0.57      0.39      0.46       854\n",
      "\n",
      "    accuracy                           0.47      5104\n",
      "   macro avg       0.48      0.47      0.46      5104\n",
      "weighted avg       0.48      0.47      0.46      5104\n",
      "\n",
      "accuracy = 0.466301\n",
      "update: k = 10, accuracy = 0.466301\n",
      "k = 11\n",
      "[3 1 4 ... 3 0 4]\n",
      "              precision    recall  f1-score   support\n",
      "\n",
      "           0       0.39      0.51      0.44       871\n",
      "           1       0.50      0.22      0.31       807\n",
      "           2       0.59      0.78      0.67       784\n",
      "           3       0.43      0.40      0.42       867\n",
      "           4       0.42      0.55      0.47       921\n",
      "           5       0.57      0.39      0.46       854\n",
      "\n",
      "    accuracy                           0.47      5104\n",
      "   macro avg       0.49      0.47      0.46      5104\n",
      "weighted avg       0.48      0.47      0.46      5104\n",
      "\n",
      "accuracy = 0.473158\n",
      "update: k = 11, accuracy = 0.473158\n",
      "k = 12\n",
      "[3 2 4 ... 3 0 4]\n",
      "              precision    recall  f1-score   support\n",
      "\n",
      "           0       0.40      0.52      0.45       871\n",
      "           1       0.53      0.22      0.31       807\n",
      "           2       0.58      0.77      0.66       784\n",
      "           3       0.44      0.40      0.42       867\n",
      "           4       0.42      0.55      0.48       921\n",
      "           5       0.57      0.40      0.47       854\n",
      "\n",
      "    accuracy                           0.48      5104\n",
      "   macro avg       0.49      0.48      0.46      5104\n",
      "weighted avg       0.49      0.48      0.46      5104\n",
      "\n",
      "accuracy = 0.476097\n",
      "update: k = 12, accuracy = 0.476097\n",
      "k = 13\n",
      "[3 2 4 ... 3 0 4]\n",
      "              precision    recall  f1-score   support\n",
      "\n",
      "           0       0.40      0.52      0.45       871\n",
      "           1       0.53      0.21      0.30       807\n",
      "           2       0.57      0.77      0.66       784\n",
      "           3       0.43      0.39      0.41       867\n",
      "           4       0.42      0.56      0.48       921\n",
      "           5       0.57      0.40      0.47       854\n",
      "\n",
      "    accuracy                           0.47      5104\n",
      "   macro avg       0.49      0.47      0.46      5104\n",
      "weighted avg       0.49      0.47      0.46      5104\n",
      "\n",
      "accuracy = 0.474334\n",
      "k = 14\n",
      "[3 2 4 ... 3 0 4]\n",
      "              precision    recall  f1-score   support\n",
      "\n",
      "           0       0.40      0.52      0.46       871\n",
      "           1       0.58      0.22      0.32       807\n",
      "           2       0.58      0.78      0.67       784\n",
      "           3       0.45      0.41      0.43       867\n",
      "           4       0.42      0.56      0.48       921\n",
      "           5       0.58      0.40      0.48       854\n",
      "\n",
      "    accuracy                           0.48      5104\n",
      "   macro avg       0.50      0.48      0.47      5104\n",
      "weighted avg       0.50      0.48      0.47      5104\n",
      "\n",
      "accuracy = 0.482955\n",
      "update: k = 14, accuracy = 0.482955\n",
      "k = 15\n",
      "[3 2 4 ... 3 0 4]\n",
      "              precision    recall  f1-score   support\n",
      "\n",
      "           0       0.41      0.52      0.46       871\n",
      "           1       0.62      0.22      0.33       807\n",
      "           2       0.58      0.78      0.66       784\n",
      "           3       0.43      0.40      0.41       867\n",
      "           4       0.41      0.56      0.48       921\n",
      "           5       0.59      0.40      0.48       854\n",
      "\n",
      "    accuracy                           0.48      5104\n",
      "   macro avg       0.51      0.48      0.47      5104\n",
      "weighted avg       0.50      0.48      0.47      5104\n",
      "\n",
      "accuracy = 0.480408\n",
      "k = 16\n",
      "[4 2 4 ... 3 0 4]\n",
      "              precision    recall  f1-score   support\n",
      "\n",
      "           0       0.41      0.53      0.46       871\n",
      "           1       0.61      0.23      0.33       807\n",
      "           2       0.58      0.79      0.67       784\n",
      "           3       0.43      0.39      0.41       867\n",
      "           4       0.41      0.56      0.48       921\n",
      "           5       0.58      0.40      0.47       854\n",
      "\n",
      "    accuracy                           0.48      5104\n",
      "   macro avg       0.50      0.48      0.47      5104\n",
      "weighted avg       0.50      0.48      0.47      5104\n",
      "\n",
      "accuracy = 0.480995\n",
      "k = 17\n",
      "[4 2 4 ... 3 0 4]\n",
      "              precision    recall  f1-score   support\n",
      "\n",
      "           0       0.41      0.53      0.46       871\n",
      "           1       0.60      0.22      0.32       807\n",
      "           2       0.58      0.79      0.67       784\n",
      "           3       0.44      0.39      0.41       867\n",
      "           4       0.42      0.56      0.48       921\n",
      "           5       0.59      0.41      0.49       854\n",
      "\n",
      "    accuracy                           0.48      5104\n",
      "   macro avg       0.51      0.48      0.47      5104\n",
      "weighted avg       0.50      0.48      0.47      5104\n",
      "\n",
      "accuracy = 0.483738\n",
      "update: k = 17, accuracy = 0.483738\n",
      "k = 18\n",
      "[4 2 4 ... 3 0 4]\n",
      "              precision    recall  f1-score   support\n",
      "\n",
      "           0       0.41      0.53      0.46       871\n",
      "           1       0.62      0.21      0.32       807\n",
      "           2       0.58      0.79      0.67       784\n",
      "           3       0.43      0.38      0.40       867\n",
      "           4       0.42      0.58      0.48       921\n",
      "           5       0.59      0.41      0.48       854\n",
      "\n",
      "    accuracy                           0.48      5104\n",
      "   macro avg       0.51      0.48      0.47      5104\n",
      "weighted avg       0.50      0.48      0.47      5104\n",
      "\n",
      "accuracy = 0.482563\n",
      "k = 19\n",
      "[3 2 4 ... 3 0 4]\n",
      "              precision    recall  f1-score   support\n",
      "\n",
      "           0       0.41      0.53      0.46       871\n",
      "           1       0.63      0.21      0.32       807\n",
      "           2       0.58      0.78      0.67       784\n",
      "           3       0.43      0.39      0.41       867\n",
      "           4       0.41      0.58      0.48       921\n",
      "           5       0.61      0.41      0.49       854\n",
      "\n",
      "    accuracy                           0.48      5104\n",
      "   macro avg       0.51      0.48      0.47      5104\n",
      "weighted avg       0.51      0.48      0.47      5104\n",
      "\n",
      "accuracy = 0.483738\n",
      "k = 20\n",
      "[3 2 4 ... 3 0 4]\n",
      "              precision    recall  f1-score   support\n",
      "\n",
      "           0       0.40      0.52      0.46       871\n",
      "           1       0.64      0.21      0.32       807\n",
      "           2       0.58      0.79      0.66       784\n",
      "           3       0.43      0.38      0.40       867\n",
      "           4       0.40      0.57      0.47       921\n",
      "           5       0.60      0.40      0.48       854\n",
      "\n",
      "    accuracy                           0.48      5104\n",
      "   macro avg       0.51      0.48      0.47      5104\n",
      "weighted avg       0.50      0.48      0.46      5104\n",
      "\n",
      "accuracy = 0.477665\n",
      "k = 21\n",
      "[3 2 4 ... 3 0 4]\n",
      "              precision    recall  f1-score   support\n",
      "\n",
      "           0       0.41      0.52      0.46       871\n",
      "           1       0.64      0.22      0.32       807\n",
      "           2       0.58      0.79      0.67       784\n",
      "           3       0.44      0.38      0.41       867\n",
      "           4       0.41      0.58      0.48       921\n",
      "           5       0.60      0.41      0.48       854\n",
      "\n",
      "    accuracy                           0.48      5104\n",
      "   macro avg       0.51      0.48      0.47      5104\n",
      "weighted avg       0.51      0.48      0.47      5104\n",
      "\n",
      "accuracy = 0.481975\n",
      "k = 22\n",
      "[3 2 4 ... 3 0 4]\n",
      "              precision    recall  f1-score   support\n",
      "\n",
      "           0       0.41      0.52      0.46       871\n",
      "           1       0.66      0.22      0.33       807\n",
      "           2       0.58      0.78      0.66       784\n",
      "           3       0.43      0.38      0.41       867\n",
      "           4       0.41      0.58      0.48       921\n",
      "           5       0.60      0.41      0.49       854\n",
      "\n",
      "    accuracy                           0.48      5104\n",
      "   macro avg       0.51      0.48      0.47      5104\n",
      "weighted avg       0.51      0.48      0.47      5104\n",
      "\n",
      "accuracy = 0.481975\n",
      "k = 23\n",
      "[3 2 4 ... 3 0 4]\n",
      "              precision    recall  f1-score   support\n",
      "\n",
      "           0       0.40      0.52      0.45       871\n",
      "           1       0.66      0.21      0.31       807\n",
      "           2       0.58      0.79      0.67       784\n",
      "           3       0.43      0.38      0.40       867\n",
      "           4       0.41      0.58      0.48       921\n",
      "           5       0.59      0.41      0.49       854\n",
      "\n",
      "    accuracy                           0.48      5104\n",
      "   macro avg       0.51      0.48      0.47      5104\n",
      "weighted avg       0.51      0.48      0.46      5104\n",
      "\n",
      "accuracy = 0.478252\n",
      "k = 24\n",
      "[3 2 4 ... 3 0 4]\n",
      "              precision    recall  f1-score   support\n",
      "\n",
      "           0       0.41      0.51      0.45       871\n",
      "           1       0.64      0.20      0.31       807\n",
      "           2       0.58      0.79      0.67       784\n",
      "           3       0.43      0.38      0.40       867\n",
      "           4       0.41      0.59      0.49       921\n",
      "           5       0.60      0.41      0.49       854\n",
      "\n",
      "    accuracy                           0.48      5104\n",
      "   macro avg       0.51      0.48      0.47      5104\n",
      "weighted avg       0.51      0.48      0.47      5104\n",
      "\n",
      "accuracy = 0.480212\n",
      "k = 25\n",
      "[4 2 4 ... 3 0 4]\n",
      "              precision    recall  f1-score   support\n",
      "\n",
      "           0       0.41      0.53      0.46       871\n",
      "           1       0.66      0.20      0.31       807\n",
      "           2       0.58      0.79      0.67       784\n",
      "           3       0.43      0.37      0.40       867\n",
      "           4       0.41      0.60      0.49       921\n",
      "           5       0.60      0.41      0.49       854\n",
      "\n",
      "    accuracy                           0.48      5104\n",
      "   macro avg       0.52      0.48      0.47      5104\n",
      "weighted avg       0.51      0.48      0.47      5104\n",
      "\n",
      "accuracy = 0.482759\n",
      "k = 26\n",
      "[4 2 4 ... 3 0 4]\n",
      "              precision    recall  f1-score   support\n",
      "\n",
      "           0       0.40      0.51      0.45       871\n",
      "           1       0.61      0.18      0.28       807\n",
      "           2       0.58      0.78      0.66       784\n",
      "           3       0.42      0.36      0.39       867\n",
      "           4       0.41      0.60      0.49       921\n",
      "           5       0.60      0.42      0.49       854\n",
      "\n",
      "    accuracy                           0.48      5104\n",
      "   macro avg       0.50      0.48      0.46      5104\n",
      "weighted avg       0.50      0.48      0.46      5104\n",
      "\n",
      "accuracy = 0.476685\n",
      "k = 27\n",
      "[4 2 4 ... 3 0 4]\n",
      "              precision    recall  f1-score   support\n",
      "\n",
      "           0       0.41      0.51      0.45       871\n",
      "           1       0.64      0.19      0.29       807\n",
      "           2       0.58      0.78      0.66       784\n",
      "           3       0.43      0.36      0.39       867\n",
      "           4       0.41      0.61      0.49       921\n",
      "           5       0.61      0.42      0.50       854\n",
      "\n",
      "    accuracy                           0.48      5104\n",
      "   macro avg       0.51      0.48      0.47      5104\n",
      "weighted avg       0.51      0.48      0.46      5104\n",
      "\n",
      "accuracy = 0.479820\n",
      "k = 28\n",
      "[4 2 4 ... 3 0 4]\n",
      "              precision    recall  f1-score   support\n",
      "\n",
      "           0       0.41      0.53      0.46       871\n",
      "           1       0.66      0.19      0.29       807\n",
      "           2       0.58      0.79      0.67       784\n",
      "           3       0.43      0.36      0.39       867\n",
      "           4       0.41      0.61      0.49       921\n",
      "           5       0.60      0.42      0.49       854\n",
      "\n",
      "    accuracy                           0.48      5104\n",
      "   macro avg       0.52      0.48      0.47      5104\n",
      "weighted avg       0.51      0.48      0.47      5104\n",
      "\n",
      "accuracy = 0.481975\n",
      "k = 29\n",
      "[4 2 4 ... 3 0 4]\n",
      "              precision    recall  f1-score   support\n",
      "\n",
      "           0       0.41      0.52      0.46       871\n",
      "           1       0.68      0.18      0.29       807\n",
      "           2       0.58      0.79      0.67       784\n",
      "           3       0.43      0.36      0.39       867\n",
      "           4       0.41      0.62      0.49       921\n",
      "           5       0.61      0.42      0.50       854\n",
      "\n",
      "    accuracy                           0.48      5104\n",
      "   macro avg       0.52      0.48      0.47      5104\n",
      "weighted avg       0.51      0.48      0.47      5104\n",
      "\n",
      "accuracy = 0.482367\n",
      "k = 30\n",
      "[4 2 4 ... 3 0 4]\n",
      "              precision    recall  f1-score   support\n",
      "\n",
      "           0       0.41      0.52      0.46       871\n",
      "           1       0.69      0.18      0.29       807\n",
      "           2       0.58      0.79      0.67       784\n",
      "           3       0.43      0.36      0.39       867\n",
      "           4       0.41      0.62      0.49       921\n",
      "           5       0.61      0.42      0.50       854\n",
      "\n",
      "    accuracy                           0.48      5104\n",
      "   macro avg       0.52      0.48      0.47      5104\n",
      "weighted avg       0.52      0.48      0.47      5104\n",
      "\n",
      "accuracy = 0.483150\n",
      "k = 31\n",
      "[4 2 4 ... 3 0 4]\n",
      "              precision    recall  f1-score   support\n",
      "\n",
      "           0       0.41      0.53      0.46       871\n",
      "           1       0.68      0.18      0.28       807\n",
      "           2       0.58      0.79      0.67       784\n",
      "           3       0.44      0.36      0.40       867\n",
      "           4       0.41      0.63      0.50       921\n",
      "           5       0.61      0.42      0.50       854\n",
      "\n",
      "    accuracy                           0.49      5104\n",
      "   macro avg       0.52      0.49      0.47      5104\n",
      "weighted avg       0.52      0.49      0.47      5104\n",
      "\n",
      "accuracy = 0.486089\n",
      "update: k = 31, accuracy = 0.486089\n",
      "k = 32\n",
      "[4 2 4 ... 3 0 4]\n",
      "              precision    recall  f1-score   support\n",
      "\n",
      "           0       0.41      0.53      0.46       871\n",
      "           1       0.66      0.18      0.28       807\n",
      "           2       0.58      0.79      0.67       784\n",
      "           3       0.44      0.36      0.39       867\n",
      "           4       0.41      0.62      0.49       921\n",
      "           5       0.61      0.42      0.50       854\n",
      "\n",
      "    accuracy                           0.48      5104\n",
      "   macro avg       0.52      0.48      0.47      5104\n",
      "weighted avg       0.51      0.48      0.46      5104\n",
      "\n",
      "accuracy = 0.482563\n",
      "k = 33\n",
      "[4 2 4 ... 3 0 4]\n",
      "              precision    recall  f1-score   support\n",
      "\n",
      "           0       0.41      0.52      0.45       871\n",
      "           1       0.66      0.17      0.27       807\n",
      "           2       0.57      0.79      0.66       784\n",
      "           3       0.44      0.36      0.40       867\n",
      "           4       0.41      0.62      0.49       921\n",
      "           5       0.61      0.43      0.50       854\n",
      "\n",
      "    accuracy                           0.48      5104\n",
      "   macro avg       0.52      0.48      0.46      5104\n",
      "weighted avg       0.51      0.48      0.46      5104\n",
      "\n",
      "accuracy = 0.480212\n",
      "k = 34\n",
      "[4 2 4 ... 3 0 4]\n",
      "              precision    recall  f1-score   support\n",
      "\n",
      "           0       0.41      0.52      0.46       871\n",
      "           1       0.69      0.17      0.27       807\n",
      "           2       0.57      0.79      0.66       784\n",
      "           3       0.44      0.36      0.39       867\n",
      "           4       0.41      0.62      0.49       921\n",
      "           5       0.61      0.43      0.50       854\n",
      "\n",
      "    accuracy                           0.48      5104\n",
      "   macro avg       0.52      0.48      0.46      5104\n",
      "weighted avg       0.52      0.48      0.46      5104\n",
      "\n",
      "accuracy = 0.480212\n",
      "k = 35\n",
      "[4 2 4 ... 3 0 4]\n",
      "              precision    recall  f1-score   support\n",
      "\n",
      "           0       0.41      0.52      0.46       871\n",
      "           1       0.67      0.16      0.26       807\n",
      "           2       0.57      0.79      0.66       784\n",
      "           3       0.44      0.36      0.39       867\n",
      "           4       0.40      0.62      0.49       921\n",
      "           5       0.61      0.43      0.50       854\n",
      "\n",
      "    accuracy                           0.48      5104\n",
      "   macro avg       0.52      0.48      0.46      5104\n",
      "weighted avg       0.51      0.48      0.46      5104\n",
      "\n",
      "accuracy = 0.479820\n",
      "k = 36\n",
      "[4 2 4 ... 3 0 4]\n",
      "              precision    recall  f1-score   support\n",
      "\n",
      "           0       0.41      0.52      0.46       871\n",
      "           1       0.66      0.16      0.26       807\n",
      "           2       0.57      0.79      0.66       784\n",
      "           3       0.44      0.36      0.39       867\n",
      "           4       0.40      0.61      0.49       921\n",
      "           5       0.61      0.42      0.50       854\n",
      "\n",
      "    accuracy                           0.48      5104\n",
      "   macro avg       0.51      0.48      0.46      5104\n",
      "weighted avg       0.51      0.48      0.46      5104\n",
      "\n",
      "accuracy = 0.478252\n",
      "k = 37\n",
      "[4 2 4 ... 3 0 4]\n",
      "              precision    recall  f1-score   support\n",
      "\n",
      "           0       0.40      0.52      0.45       871\n",
      "           1       0.65      0.16      0.26       807\n",
      "           2       0.57      0.79      0.66       784\n",
      "           3       0.43      0.36      0.39       867\n",
      "           4       0.40      0.61      0.48       921\n",
      "           5       0.61      0.42      0.49       854\n",
      "\n",
      "    accuracy                           0.48      5104\n",
      "   macro avg       0.51      0.48      0.46      5104\n",
      "weighted avg       0.51      0.48      0.46      5104\n",
      "\n",
      "accuracy = 0.475705\n",
      "k = 38\n",
      "[4 2 4 ... 3 0 4]\n",
      "              precision    recall  f1-score   support\n",
      "\n",
      "           0       0.41      0.52      0.46       871\n",
      "           1       0.67      0.16      0.26       807\n",
      "           2       0.57      0.79      0.66       784\n",
      "           3       0.42      0.35      0.38       867\n",
      "           4       0.40      0.61      0.49       921\n",
      "           5       0.60      0.42      0.49       854\n",
      "\n",
      "    accuracy                           0.48      5104\n",
      "   macro avg       0.51      0.48      0.46      5104\n",
      "weighted avg       0.51      0.48      0.46      5104\n",
      "\n",
      "accuracy = 0.475705\n",
      "k = 39\n",
      "[4 2 4 ... 3 0 4]\n",
      "              precision    recall  f1-score   support\n",
      "\n",
      "           0       0.41      0.53      0.46       871\n",
      "           1       0.67      0.16      0.26       807\n",
      "           2       0.57      0.79      0.67       784\n",
      "           3       0.43      0.35      0.38       867\n",
      "           4       0.41      0.63      0.49       921\n",
      "           5       0.61      0.42      0.49       854\n",
      "\n",
      "    accuracy                           0.48      5104\n",
      "   macro avg       0.52      0.48      0.46      5104\n",
      "weighted avg       0.51      0.48      0.46      5104\n",
      "\n",
      "accuracy = 0.478840\n",
      "k = 40\n",
      "[4 2 4 ... 3 0 4]\n",
      "              precision    recall  f1-score   support\n",
      "\n",
      "           0       0.41      0.53      0.46       871\n",
      "           1       0.69      0.15      0.25       807\n",
      "           2       0.57      0.79      0.66       784\n",
      "           3       0.43      0.34      0.38       867\n",
      "           4       0.41      0.63      0.50       921\n",
      "           5       0.61      0.42      0.49       854\n",
      "\n",
      "    accuracy                           0.48      5104\n",
      "   macro avg       0.52      0.48      0.46      5104\n",
      "weighted avg       0.51      0.48      0.46      5104\n",
      "\n",
      "accuracy = 0.478252\n",
      "k = 41\n",
      "[4 2 4 ... 3 0 4]\n",
      "              precision    recall  f1-score   support\n",
      "\n",
      "           0       0.40      0.52      0.45       871\n",
      "           1       0.69      0.16      0.26       807\n",
      "           2       0.57      0.79      0.66       784\n",
      "           3       0.44      0.34      0.38       867\n",
      "           4       0.41      0.63      0.49       921\n",
      "           5       0.60      0.41      0.49       854\n",
      "\n",
      "    accuracy                           0.48      5104\n",
      "   macro avg       0.52      0.48      0.46      5104\n",
      "weighted avg       0.51      0.48      0.46      5104\n",
      "\n",
      "accuracy = 0.476685\n",
      "k = 42\n",
      "[4 2 4 ... 3 0 4]\n",
      "              precision    recall  f1-score   support\n",
      "\n",
      "           0       0.40      0.52      0.45       871\n",
      "           1       0.68      0.15      0.25       807\n",
      "           2       0.57      0.80      0.66       784\n",
      "           3       0.44      0.34      0.38       867\n",
      "           4       0.41      0.63      0.49       921\n",
      "           5       0.60      0.41      0.49       854\n",
      "\n",
      "    accuracy                           0.48      5104\n",
      "   macro avg       0.52      0.48      0.45      5104\n",
      "weighted avg       0.51      0.48      0.45      5104\n",
      "\n",
      "accuracy = 0.475901\n",
      "k = 43\n",
      "[4 2 4 ... 3 0 4]\n",
      "              precision    recall  f1-score   support\n",
      "\n",
      "           0       0.40      0.53      0.46       871\n",
      "           1       0.72      0.15      0.26       807\n",
      "           2       0.57      0.79      0.66       784\n",
      "           3       0.43      0.33      0.37       867\n",
      "           4       0.40      0.63      0.49       921\n",
      "           5       0.60      0.41      0.49       854\n",
      "\n",
      "    accuracy                           0.48      5104\n",
      "   macro avg       0.52      0.47      0.45      5104\n",
      "weighted avg       0.52      0.48      0.45      5104\n",
      "\n",
      "accuracy = 0.475118\n",
      "k = 44\n",
      "[4 2 4 ... 3 0 4]\n",
      "              precision    recall  f1-score   support\n",
      "\n",
      "           0       0.41      0.53      0.46       871\n",
      "           1       0.71      0.15      0.25       807\n",
      "           2       0.56      0.79      0.66       784\n",
      "           3       0.44      0.34      0.38       867\n",
      "           4       0.40      0.64      0.49       921\n",
      "           5       0.60      0.41      0.48       854\n",
      "\n",
      "    accuracy                           0.48      5104\n",
      "   macro avg       0.52      0.48      0.45      5104\n",
      "weighted avg       0.52      0.48      0.45      5104\n",
      "\n",
      "accuracy = 0.475901\n",
      "k = 45\n",
      "[4 2 4 ... 3 0 4]\n",
      "              precision    recall  f1-score   support\n",
      "\n",
      "           0       0.41      0.53      0.46       871\n",
      "           1       0.69      0.15      0.25       807\n",
      "           2       0.57      0.79      0.66       784\n",
      "           3       0.43      0.33      0.37       867\n",
      "           4       0.40      0.64      0.50       921\n",
      "           5       0.60      0.40      0.48       854\n",
      "\n",
      "    accuracy                           0.48      5104\n",
      "   macro avg       0.52      0.47      0.45      5104\n",
      "weighted avg       0.51      0.48      0.45      5104\n",
      "\n",
      "accuracy = 0.475313\n",
      "k = 46\n",
      "[4 2 4 ... 3 0 4]\n",
      "              precision    recall  f1-score   support\n",
      "\n",
      "           0       0.41      0.54      0.46       871\n",
      "           1       0.70      0.15      0.25       807\n",
      "           2       0.57      0.79      0.66       784\n",
      "           3       0.43      0.33      0.37       867\n",
      "           4       0.40      0.64      0.49       921\n",
      "           5       0.59      0.40      0.47       854\n",
      "\n",
      "    accuracy                           0.47      5104\n",
      "   macro avg       0.52      0.47      0.45      5104\n",
      "weighted avg       0.51      0.47      0.45      5104\n",
      "\n",
      "accuracy = 0.474530\n",
      "k = 47\n",
      "[4 2 4 ... 3 0 4]\n",
      "              precision    recall  f1-score   support\n",
      "\n",
      "           0       0.41      0.54      0.47       871\n",
      "           1       0.70      0.15      0.25       807\n",
      "           2       0.57      0.79      0.67       784\n",
      "           3       0.44      0.33      0.38       867\n",
      "           4       0.40      0.64      0.49       921\n",
      "           5       0.59      0.39      0.47       854\n",
      "\n",
      "    accuracy                           0.48      5104\n",
      "   macro avg       0.52      0.48      0.45      5104\n",
      "weighted avg       0.51      0.48      0.45      5104\n",
      "\n",
      "accuracy = 0.475901\n",
      "k = 48\n",
      "[4 2 4 ... 3 0 4]\n",
      "              precision    recall  f1-score   support\n",
      "\n",
      "           0       0.41      0.54      0.46       871\n",
      "           1       0.70      0.14      0.23       807\n",
      "           2       0.57      0.79      0.66       784\n",
      "           3       0.44      0.34      0.38       867\n",
      "           4       0.40      0.64      0.49       921\n",
      "           5       0.59      0.39      0.47       854\n",
      "\n",
      "    accuracy                           0.47      5104\n",
      "   macro avg       0.52      0.47      0.45      5104\n",
      "weighted avg       0.51      0.47      0.45      5104\n",
      "\n",
      "accuracy = 0.473942\n",
      "k = 49\n",
      "[4 2 4 ... 3 0 4]\n",
      "              precision    recall  f1-score   support\n",
      "\n",
      "           0       0.41      0.54      0.46       871\n",
      "           1       0.69      0.14      0.24       807\n",
      "           2       0.56      0.78      0.65       784\n",
      "           3       0.45      0.34      0.38       867\n",
      "           4       0.40      0.64      0.49       921\n",
      "           5       0.59      0.39      0.47       854\n",
      "\n",
      "    accuracy                           0.47      5104\n",
      "   macro avg       0.52      0.47      0.45      5104\n",
      "weighted avg       0.51      0.47      0.45      5104\n",
      "\n",
      "accuracy = 0.472571\n",
      "k = 50\n",
      "[4 2 4 ... 3 0 4]\n",
      "              precision    recall  f1-score   support\n",
      "\n",
      "           0       0.40      0.53      0.46       871\n",
      "           1       0.66      0.14      0.22       807\n",
      "           2       0.56      0.78      0.65       784\n",
      "           3       0.44      0.33      0.38       867\n",
      "           4       0.40      0.64      0.49       921\n",
      "           5       0.59      0.39      0.47       854\n",
      "\n",
      "    accuracy                           0.47      5104\n",
      "   macro avg       0.51      0.47      0.45      5104\n",
      "weighted avg       0.50      0.47      0.44      5104\n",
      "\n",
      "accuracy = 0.468456\n",
      "k = 51\n",
      "[4 2 4 ... 3 0 4]\n",
      "              precision    recall  f1-score   support\n",
      "\n",
      "           0       0.40      0.53      0.46       871\n",
      "           1       0.67      0.14      0.23       807\n",
      "           2       0.57      0.79      0.66       784\n",
      "           3       0.44      0.34      0.38       867\n",
      "           4       0.40      0.64      0.49       921\n",
      "           5       0.59      0.39      0.47       854\n",
      "\n",
      "    accuracy                           0.47      5104\n",
      "   macro avg       0.51      0.47      0.45      5104\n",
      "weighted avg       0.51      0.47      0.45      5104\n",
      "\n",
      "accuracy = 0.470807\n",
      "k = 52\n",
      "[4 2 4 ... 3 0 4]\n",
      "              precision    recall  f1-score   support\n",
      "\n",
      "           0       0.40      0.53      0.46       871\n",
      "           1       0.70      0.14      0.23       807\n",
      "           2       0.56      0.78      0.66       784\n",
      "           3       0.44      0.33      0.38       867\n",
      "           4       0.40      0.64      0.49       921\n",
      "           5       0.59      0.39      0.47       854\n",
      "\n",
      "    accuracy                           0.47      5104\n",
      "   macro avg       0.51      0.47      0.45      5104\n",
      "weighted avg       0.51      0.47      0.45      5104\n",
      "\n",
      "accuracy = 0.470024\n",
      "k = 53\n",
      "[4 2 4 ... 3 0 4]\n",
      "              precision    recall  f1-score   support\n",
      "\n",
      "           0       0.40      0.53      0.46       871\n",
      "           1       0.68      0.14      0.23       807\n",
      "           2       0.56      0.79      0.66       784\n",
      "           3       0.44      0.33      0.38       867\n",
      "           4       0.40      0.64      0.49       921\n",
      "           5       0.59      0.39      0.47       854\n",
      "\n",
      "    accuracy                           0.47      5104\n",
      "   macro avg       0.51      0.47      0.45      5104\n",
      "weighted avg       0.51      0.47      0.45      5104\n",
      "\n",
      "accuracy = 0.470611\n",
      "k = 54\n",
      "[4 2 4 ... 3 0 4]\n",
      "              precision    recall  f1-score   support\n",
      "\n",
      "           0       0.40      0.54      0.46       871\n",
      "           1       0.69      0.14      0.23       807\n",
      "           2       0.57      0.79      0.66       784\n",
      "           3       0.45      0.34      0.39       867\n",
      "           4       0.40      0.64      0.49       921\n",
      "           5       0.59      0.39      0.47       854\n",
      "\n",
      "    accuracy                           0.47      5104\n",
      "   macro avg       0.52      0.47      0.45      5104\n",
      "weighted avg       0.51      0.47      0.45      5104\n",
      "\n",
      "accuracy = 0.471983\n",
      "k = 55\n",
      "[4 2 4 ... 3 0 4]\n",
      "              precision    recall  f1-score   support\n",
      "\n",
      "           0       0.41      0.53      0.46       871\n",
      "           1       0.69      0.14      0.23       807\n",
      "           2       0.57      0.79      0.66       784\n",
      "           3       0.44      0.33      0.38       867\n",
      "           4       0.40      0.64      0.49       921\n",
      "           5       0.59      0.39      0.47       854\n",
      "\n",
      "    accuracy                           0.47      5104\n",
      "   macro avg       0.52      0.47      0.45      5104\n",
      "weighted avg       0.51      0.47      0.45      5104\n",
      "\n",
      "accuracy = 0.471983\n",
      "k = 56\n",
      "[4 2 4 ... 3 0 4]\n",
      "              precision    recall  f1-score   support\n",
      "\n",
      "           0       0.41      0.54      0.46       871\n",
      "           1       0.71      0.14      0.23       807\n",
      "           2       0.57      0.79      0.66       784\n",
      "           3       0.44      0.33      0.38       867\n",
      "           4       0.40      0.64      0.49       921\n",
      "           5       0.59      0.39      0.47       854\n",
      "\n",
      "    accuracy                           0.47      5104\n",
      "   macro avg       0.52      0.47      0.45      5104\n",
      "weighted avg       0.51      0.47      0.45      5104\n",
      "\n",
      "accuracy = 0.471787\n",
      "k = 57\n",
      "[4 2 4 ... 3 0 4]\n",
      "              precision    recall  f1-score   support\n",
      "\n",
      "           0       0.40      0.53      0.46       871\n",
      "           1       0.70      0.14      0.24       807\n",
      "           2       0.57      0.79      0.66       784\n",
      "           3       0.43      0.33      0.38       867\n",
      "           4       0.40      0.64      0.49       921\n",
      "           5       0.59      0.39      0.47       854\n",
      "\n",
      "    accuracy                           0.47      5104\n",
      "   macro avg       0.52      0.47      0.45      5104\n",
      "weighted avg       0.51      0.47      0.45      5104\n",
      "\n",
      "accuracy = 0.470024\n",
      "k = 58\n",
      "[4 2 4 ... 3 0 4]\n",
      "              precision    recall  f1-score   support\n",
      "\n",
      "           0       0.40      0.53      0.45       871\n",
      "           1       0.69      0.14      0.23       807\n",
      "           2       0.56      0.78      0.66       784\n",
      "           3       0.43      0.32      0.37       867\n",
      "           4       0.39      0.64      0.49       921\n",
      "           5       0.59      0.38      0.46       854\n",
      "\n",
      "    accuracy                           0.47      5104\n",
      "   macro avg       0.51      0.46      0.44      5104\n",
      "weighted avg       0.51      0.47      0.44      5104\n",
      "\n",
      "accuracy = 0.465321\n",
      "k = 59\n",
      "[4 2 4 ... 3 0 4]\n",
      "              precision    recall  f1-score   support\n",
      "\n",
      "           0       0.40      0.53      0.45       871\n",
      "           1       0.69      0.13      0.22       807\n",
      "           2       0.56      0.79      0.66       784\n",
      "           3       0.43      0.32      0.37       867\n",
      "           4       0.39      0.64      0.49       921\n",
      "           5       0.59      0.38      0.46       854\n",
      "\n",
      "    accuracy                           0.47      5104\n",
      "   macro avg       0.51      0.47      0.44      5104\n",
      "weighted avg       0.51      0.47      0.44      5104\n",
      "\n",
      "accuracy = 0.466693\n",
      "k = 60\n",
      "[4 2 4 ... 3 0 4]\n",
      "              precision    recall  f1-score   support\n",
      "\n",
      "           0       0.40      0.52      0.45       871\n",
      "           1       0.68      0.14      0.23       807\n",
      "           2       0.57      0.79      0.66       784\n",
      "           3       0.44      0.33      0.38       867\n",
      "           4       0.40      0.64      0.49       921\n",
      "           5       0.59      0.39      0.47       854\n",
      "\n",
      "    accuracy                           0.47      5104\n",
      "   macro avg       0.51      0.47      0.45      5104\n",
      "weighted avg       0.51      0.47      0.45      5104\n",
      "\n",
      "accuracy = 0.469044\n",
      "k = 61\n",
      "[4 2 4 ... 3 0 4]\n",
      "              precision    recall  f1-score   support\n",
      "\n",
      "           0       0.40      0.53      0.45       871\n",
      "           1       0.70      0.13      0.22       807\n",
      "           2       0.57      0.79      0.66       784\n",
      "           3       0.43      0.33      0.38       867\n",
      "           4       0.39      0.63      0.48       921\n",
      "           5       0.59      0.39      0.47       854\n",
      "\n",
      "    accuracy                           0.47      5104\n",
      "   macro avg       0.51      0.47      0.44      5104\n",
      "weighted avg       0.51      0.47      0.44      5104\n",
      "\n",
      "accuracy = 0.466497\n",
      "k = 62\n",
      "[4 2 4 ... 3 0 4]\n",
      "              precision    recall  f1-score   support\n",
      "\n",
      "           0       0.40      0.53      0.45       871\n",
      "           1       0.70      0.13      0.22       807\n",
      "           2       0.57      0.78      0.66       784\n",
      "           3       0.43      0.33      0.38       867\n",
      "           4       0.39      0.63      0.48       921\n",
      "           5       0.59      0.38      0.47       854\n",
      "\n",
      "    accuracy                           0.47      5104\n",
      "   macro avg       0.51      0.47      0.44      5104\n",
      "weighted avg       0.51      0.47      0.44      5104\n",
      "\n",
      "accuracy = 0.465909\n",
      "k = 63\n",
      "[4 2 4 ... 3 0 4]\n",
      "              precision    recall  f1-score   support\n",
      "\n",
      "           0       0.40      0.53      0.45       871\n",
      "           1       0.70      0.12      0.21       807\n",
      "           2       0.57      0.79      0.66       784\n",
      "           3       0.43      0.33      0.37       867\n",
      "           4       0.39      0.63      0.48       921\n",
      "           5       0.59      0.38      0.46       854\n",
      "\n",
      "    accuracy                           0.46      5104\n",
      "   macro avg       0.51      0.46      0.44      5104\n",
      "weighted avg       0.51      0.46      0.44      5104\n",
      "\n",
      "accuracy = 0.463950\n",
      "k = 64\n",
      "[4 2 4 ... 3 0 4]\n",
      "              precision    recall  f1-score   support\n",
      "\n",
      "           0       0.40      0.53      0.45       871\n",
      "           1       0.70      0.13      0.21       807\n",
      "           2       0.57      0.78      0.66       784\n",
      "           3       0.43      0.33      0.37       867\n",
      "           4       0.39      0.64      0.48       921\n",
      "           5       0.59      0.38      0.46       854\n",
      "\n",
      "    accuracy                           0.46      5104\n",
      "   macro avg       0.51      0.46      0.44      5104\n",
      "weighted avg       0.51      0.46      0.44      5104\n",
      "\n",
      "accuracy = 0.464538\n",
      "k = 65\n",
      "[4 2 4 ... 3 0 4]\n",
      "              precision    recall  f1-score   support\n",
      "\n",
      "           0       0.39      0.53      0.45       871\n",
      "           1       0.71      0.12      0.21       807\n",
      "           2       0.57      0.78      0.66       784\n",
      "           3       0.43      0.33      0.37       867\n",
      "           4       0.39      0.63      0.48       921\n",
      "           5       0.59      0.38      0.46       854\n",
      "\n",
      "    accuracy                           0.46      5104\n",
      "   macro avg       0.51      0.46      0.44      5104\n",
      "weighted avg       0.51      0.46      0.44      5104\n",
      "\n",
      "accuracy = 0.462970\n",
      "k = 66\n",
      "[4 2 4 ... 3 0 4]\n",
      "              precision    recall  f1-score   support\n",
      "\n",
      "           0       0.39      0.53      0.45       871\n",
      "           1       0.71      0.12      0.21       807\n",
      "           2       0.56      0.78      0.65       784\n",
      "           3       0.43      0.33      0.37       867\n",
      "           4       0.39      0.63      0.48       921\n",
      "           5       0.59      0.38      0.46       854\n",
      "\n",
      "    accuracy                           0.46      5104\n",
      "   macro avg       0.51      0.46      0.44      5104\n",
      "weighted avg       0.51      0.46      0.44      5104\n",
      "\n",
      "accuracy = 0.462382\n",
      "k = 67\n",
      "[4 2 4 ... 3 0 4]\n",
      "              precision    recall  f1-score   support\n",
      "\n",
      "           0       0.39      0.53      0.45       871\n",
      "           1       0.70      0.13      0.21       807\n",
      "           2       0.56      0.78      0.65       784\n",
      "           3       0.44      0.33      0.37       867\n",
      "           4       0.39      0.64      0.48       921\n",
      "           5       0.59      0.37      0.46       854\n",
      "\n",
      "    accuracy                           0.46      5104\n",
      "   macro avg       0.51      0.46      0.44      5104\n",
      "weighted avg       0.51      0.46      0.44      5104\n",
      "\n",
      "accuracy = 0.463166\n",
      "k = 68\n",
      "[4 2 4 ... 3 0 4]\n",
      "              precision    recall  f1-score   support\n",
      "\n",
      "           0       0.40      0.54      0.46       871\n",
      "           1       0.71      0.12      0.21       807\n",
      "           2       0.56      0.78      0.65       784\n",
      "           3       0.43      0.33      0.37       867\n",
      "           4       0.39      0.63      0.48       921\n",
      "           5       0.59      0.38      0.46       854\n",
      "\n",
      "    accuracy                           0.46      5104\n",
      "   macro avg       0.51      0.46      0.44      5104\n",
      "weighted avg       0.51      0.46      0.44      5104\n",
      "\n",
      "accuracy = 0.463166\n",
      "k = 69\n",
      "[4 2 4 ... 3 0 4]\n",
      "              precision    recall  f1-score   support\n",
      "\n",
      "           0       0.40      0.54      0.46       871\n",
      "           1       0.71      0.12      0.20       807\n",
      "           2       0.56      0.78      0.65       784\n",
      "           3       0.43      0.33      0.37       867\n",
      "           4       0.39      0.64      0.48       921\n",
      "           5       0.58      0.38      0.46       854\n",
      "\n",
      "    accuracy                           0.46      5104\n",
      "   macro avg       0.51      0.46      0.44      5104\n",
      "weighted avg       0.51      0.46      0.44      5104\n",
      "\n",
      "accuracy = 0.462970\n",
      "k = 70\n",
      "[4 2 4 ... 3 0 4]\n",
      "              precision    recall  f1-score   support\n",
      "\n",
      "           0       0.40      0.54      0.46       871\n",
      "           1       0.74      0.12      0.20       807\n",
      "           2       0.56      0.78      0.65       784\n",
      "           3       0.44      0.33      0.38       867\n",
      "           4       0.39      0.64      0.48       921\n",
      "           5       0.58      0.38      0.46       854\n",
      "\n",
      "    accuracy                           0.46      5104\n",
      "   macro avg       0.52      0.46      0.44      5104\n",
      "weighted avg       0.51      0.46      0.44      5104\n",
      "\n",
      "accuracy = 0.463558\n",
      "k = 71\n",
      "[4 2 4 ... 3 0 4]\n",
      "              precision    recall  f1-score   support\n",
      "\n",
      "           0       0.40      0.53      0.45       871\n",
      "           1       0.74      0.12      0.20       807\n",
      "           2       0.56      0.77      0.65       784\n",
      "           3       0.44      0.33      0.38       867\n",
      "           4       0.39      0.64      0.48       921\n",
      "           5       0.58      0.37      0.45       854\n",
      "\n",
      "    accuracy                           0.46      5104\n",
      "   macro avg       0.52      0.46      0.44      5104\n",
      "weighted avg       0.51      0.46      0.44      5104\n",
      "\n",
      "accuracy = 0.461991\n",
      "k = 72\n",
      "[4 2 4 ... 3 0 4]\n",
      "              precision    recall  f1-score   support\n",
      "\n",
      "           0       0.40      0.54      0.46       871\n",
      "           1       0.73      0.11      0.20       807\n",
      "           2       0.56      0.77      0.65       784\n",
      "           3       0.44      0.33      0.37       867\n",
      "           4       0.39      0.64      0.48       921\n",
      "           5       0.59      0.38      0.46       854\n",
      "\n",
      "    accuracy                           0.46      5104\n",
      "   macro avg       0.52      0.46      0.44      5104\n",
      "weighted avg       0.51      0.46      0.44      5104\n",
      "\n",
      "accuracy = 0.462382\n",
      "k = 73\n",
      "[4 2 4 ... 3 0 4]\n",
      "              precision    recall  f1-score   support\n",
      "\n",
      "           0       0.40      0.54      0.46       871\n",
      "           1       0.72      0.11      0.20       807\n",
      "           2       0.56      0.77      0.65       784\n",
      "           3       0.45      0.33      0.38       867\n",
      "           4       0.38      0.64      0.48       921\n",
      "           5       0.59      0.37      0.46       854\n",
      "\n",
      "    accuracy                           0.46      5104\n",
      "   macro avg       0.52      0.46      0.44      5104\n",
      "weighted avg       0.51      0.46      0.44      5104\n",
      "\n",
      "accuracy = 0.462578\n",
      "k = 74\n",
      "[4 2 4 ... 3 0 4]\n",
      "              precision    recall  f1-score   support\n",
      "\n",
      "           0       0.40      0.54      0.46       871\n",
      "           1       0.75      0.12      0.20       807\n",
      "           2       0.56      0.78      0.65       784\n",
      "           3       0.44      0.33      0.38       867\n",
      "           4       0.39      0.64      0.48       921\n",
      "           5       0.59      0.38      0.46       854\n",
      "\n",
      "    accuracy                           0.47      5104\n",
      "   macro avg       0.52      0.46      0.44      5104\n",
      "weighted avg       0.52      0.47      0.44      5104\n",
      "\n",
      "accuracy = 0.465125\n",
      "k = 75\n",
      "[4 2 4 ... 3 0 4]\n",
      "              precision    recall  f1-score   support\n",
      "\n",
      "           0       0.40      0.54      0.46       871\n",
      "           1       0.75      0.12      0.20       807\n",
      "           2       0.57      0.78      0.66       784\n",
      "           3       0.44      0.33      0.37       867\n",
      "           4       0.38      0.64      0.48       921\n",
      "           5       0.58      0.38      0.46       854\n",
      "\n",
      "    accuracy                           0.46      5104\n",
      "   macro avg       0.52      0.46      0.44      5104\n",
      "weighted avg       0.52      0.46      0.44      5104\n",
      "\n",
      "accuracy = 0.463166\n",
      "k = 76\n",
      "[4 2 4 ... 3 0 4]\n",
      "              precision    recall  f1-score   support\n",
      "\n",
      "           0       0.40      0.54      0.46       871\n",
      "           1       0.76      0.12      0.20       807\n",
      "           2       0.56      0.78      0.66       784\n",
      "           3       0.44      0.33      0.38       867\n",
      "           4       0.38      0.64      0.48       921\n",
      "           5       0.58      0.38      0.46       854\n",
      "\n",
      "    accuracy                           0.46      5104\n",
      "   macro avg       0.52      0.46      0.44      5104\n",
      "weighted avg       0.52      0.46      0.44      5104\n",
      "\n",
      "accuracy = 0.464342\n",
      "k = 77\n",
      "[4 2 4 ... 3 0 4]\n",
      "              precision    recall  f1-score   support\n",
      "\n",
      "           0       0.40      0.54      0.46       871\n",
      "           1       0.74      0.12      0.20       807\n",
      "           2       0.57      0.78      0.66       784\n",
      "           3       0.44      0.33      0.37       867\n",
      "           4       0.39      0.64      0.48       921\n",
      "           5       0.59      0.38      0.46       854\n",
      "\n",
      "    accuracy                           0.46      5104\n",
      "   macro avg       0.52      0.46      0.44      5104\n",
      "weighted avg       0.52      0.46      0.44      5104\n",
      "\n",
      "accuracy = 0.464146\n",
      "k = 78\n",
      "[4 2 4 ... 3 0 4]\n",
      "              precision    recall  f1-score   support\n",
      "\n",
      "           0       0.40      0.54      0.46       871\n",
      "           1       0.75      0.11      0.20       807\n",
      "           2       0.57      0.78      0.66       784\n",
      "           3       0.44      0.32      0.37       867\n",
      "           4       0.38      0.64      0.48       921\n",
      "           5       0.59      0.38      0.46       854\n",
      "\n",
      "    accuracy                           0.46      5104\n",
      "   macro avg       0.52      0.46      0.44      5104\n",
      "weighted avg       0.52      0.46      0.44      5104\n",
      "\n",
      "accuracy = 0.463950\n",
      "k = 79\n",
      "[4 2 4 ... 3 0 4]\n",
      "              precision    recall  f1-score   support\n",
      "\n",
      "           0       0.40      0.54      0.46       871\n",
      "           1       0.71      0.11      0.19       807\n",
      "           2       0.56      0.77      0.65       784\n",
      "           3       0.44      0.32      0.37       867\n",
      "           4       0.38      0.63      0.48       921\n",
      "           5       0.58      0.38      0.46       854\n",
      "\n",
      "    accuracy                           0.46      5104\n",
      "   macro avg       0.51      0.46      0.43      5104\n",
      "weighted avg       0.51      0.46      0.43      5104\n",
      "\n",
      "accuracy = 0.460619\n",
      "k = 80\n",
      "[4 2 4 ... 3 0 4]\n",
      "              precision    recall  f1-score   support\n",
      "\n",
      "           0       0.40      0.54      0.46       871\n",
      "           1       0.73      0.11      0.20       807\n",
      "           2       0.56      0.77      0.65       784\n",
      "           3       0.44      0.32      0.37       867\n",
      "           4       0.38      0.64      0.48       921\n",
      "           5       0.58      0.38      0.46       854\n",
      "\n",
      "    accuracy                           0.46      5104\n",
      "   macro avg       0.52      0.46      0.44      5104\n",
      "weighted avg       0.51      0.46      0.44      5104\n",
      "\n",
      "accuracy = 0.461403\n",
      "k = 81\n",
      "[4 2 4 ... 3 0 4]\n",
      "              precision    recall  f1-score   support\n",
      "\n",
      "           0       0.40      0.54      0.46       871\n",
      "           1       0.74      0.11      0.19       807\n",
      "           2       0.56      0.78      0.65       784\n",
      "           3       0.44      0.32      0.37       867\n",
      "           4       0.38      0.64      0.48       921\n",
      "           5       0.59      0.38      0.46       854\n",
      "\n",
      "    accuracy                           0.46      5104\n",
      "   macro avg       0.52      0.46      0.44      5104\n",
      "weighted avg       0.51      0.46      0.44      5104\n",
      "\n",
      "accuracy = 0.462578\n",
      "k = 82\n",
      "[4 2 4 ... 3 0 4]\n",
      "              precision    recall  f1-score   support\n",
      "\n",
      "           0       0.39      0.53      0.45       871\n",
      "           1       0.73      0.11      0.19       807\n",
      "           2       0.56      0.77      0.65       784\n",
      "           3       0.44      0.32      0.37       867\n",
      "           4       0.38      0.64      0.48       921\n",
      "           5       0.59      0.38      0.46       854\n",
      "\n",
      "    accuracy                           0.46      5104\n",
      "   macro avg       0.51      0.46      0.43      5104\n",
      "weighted avg       0.51      0.46      0.43      5104\n",
      "\n",
      "accuracy = 0.458856\n",
      "k = 83\n",
      "[4 2 4 ... 3 0 4]\n",
      "              precision    recall  f1-score   support\n",
      "\n",
      "           0       0.39      0.54      0.45       871\n",
      "           1       0.72      0.10      0.18       807\n",
      "           2       0.56      0.77      0.65       784\n",
      "           3       0.44      0.32      0.37       867\n",
      "           4       0.38      0.64      0.48       921\n",
      "           5       0.59      0.38      0.46       854\n",
      "\n",
      "    accuracy                           0.46      5104\n",
      "   macro avg       0.51      0.46      0.43      5104\n",
      "weighted avg       0.51      0.46      0.43      5104\n",
      "\n",
      "accuracy = 0.458856\n",
      "k = 84\n",
      "[4 2 4 ... 3 0 4]\n",
      "              precision    recall  f1-score   support\n",
      "\n",
      "           0       0.39      0.53      0.45       871\n",
      "           1       0.73      0.11      0.18       807\n",
      "           2       0.56      0.77      0.65       784\n",
      "           3       0.43      0.31      0.36       867\n",
      "           4       0.38      0.64      0.48       921\n",
      "           5       0.59      0.38      0.46       854\n",
      "\n",
      "    accuracy                           0.46      5104\n",
      "   macro avg       0.51      0.46      0.43      5104\n",
      "weighted avg       0.51      0.46      0.43      5104\n",
      "\n",
      "accuracy = 0.458464\n",
      "k = 85\n",
      "[4 2 4 ... 3 0 4]\n",
      "              precision    recall  f1-score   support\n",
      "\n",
      "           0       0.40      0.54      0.46       871\n",
      "           1       0.74      0.11      0.18       807\n",
      "           2       0.56      0.77      0.65       784\n",
      "           3       0.44      0.32      0.37       867\n",
      "           4       0.38      0.64      0.48       921\n",
      "           5       0.59      0.38      0.46       854\n",
      "\n",
      "    accuracy                           0.46      5104\n",
      "   macro avg       0.52      0.46      0.43      5104\n",
      "weighted avg       0.51      0.46      0.43      5104\n",
      "\n",
      "accuracy = 0.459052\n",
      "k = 86\n",
      "[4 2 4 ... 3 0 4]\n",
      "              precision    recall  f1-score   support\n",
      "\n",
      "           0       0.40      0.54      0.46       871\n",
      "           1       0.73      0.10      0.18       807\n",
      "           2       0.56      0.77      0.65       784\n",
      "           3       0.44      0.32      0.37       867\n",
      "           4       0.38      0.65      0.48       921\n",
      "           5       0.58      0.38      0.46       854\n",
      "\n",
      "    accuracy                           0.46      5104\n",
      "   macro avg       0.52      0.46      0.43      5104\n",
      "weighted avg       0.51      0.46      0.43      5104\n",
      "\n",
      "accuracy = 0.459639\n",
      "k = 87\n",
      "[4 2 4 ... 3 0 4]\n",
      "              precision    recall  f1-score   support\n",
      "\n",
      "           0       0.40      0.54      0.46       871\n",
      "           1       0.72      0.10      0.18       807\n",
      "           2       0.56      0.77      0.65       784\n",
      "           3       0.45      0.32      0.37       867\n",
      "           4       0.38      0.65      0.48       921\n",
      "           5       0.59      0.38      0.47       854\n",
      "\n",
      "    accuracy                           0.46      5104\n",
      "   macro avg       0.52      0.46      0.43      5104\n",
      "weighted avg       0.51      0.46      0.43      5104\n",
      "\n",
      "accuracy = 0.461403\n",
      "k = 88\n",
      "[4 2 4 ... 3 0 4]\n",
      "              precision    recall  f1-score   support\n",
      "\n",
      "           0       0.40      0.54      0.46       871\n",
      "           1       0.71      0.10      0.18       807\n",
      "           2       0.56      0.77      0.65       784\n",
      "           3       0.44      0.32      0.37       867\n",
      "           4       0.38      0.64      0.47       921\n",
      "           5       0.59      0.38      0.46       854\n",
      "\n",
      "    accuracy                           0.46      5104\n",
      "   macro avg       0.51      0.46      0.43      5104\n",
      "weighted avg       0.51      0.46      0.43      5104\n",
      "\n",
      "accuracy = 0.458464\n",
      "k = 89\n",
      "[4 2 4 ... 3 0 4]\n",
      "              precision    recall  f1-score   support\n",
      "\n",
      "           0       0.40      0.54      0.46       871\n",
      "           1       0.75      0.11      0.19       807\n",
      "           2       0.56      0.77      0.65       784\n",
      "           3       0.44      0.32      0.37       867\n",
      "           4       0.38      0.64      0.47       921\n",
      "           5       0.59      0.38      0.46       854\n",
      "\n",
      "    accuracy                           0.46      5104\n",
      "   macro avg       0.52      0.46      0.43      5104\n",
      "weighted avg       0.51      0.46      0.43      5104\n",
      "\n",
      "accuracy = 0.459835\n",
      "k = 90\n",
      "[4 2 4 ... 3 0 4]\n",
      "              precision    recall  f1-score   support\n",
      "\n",
      "           0       0.40      0.54      0.46       871\n",
      "           1       0.75      0.10      0.18       807\n",
      "           2       0.56      0.77      0.65       784\n",
      "           3       0.44      0.32      0.37       867\n",
      "           4       0.38      0.64      0.48       921\n",
      "           5       0.59      0.38      0.46       854\n",
      "\n",
      "    accuracy                           0.46      5104\n",
      "   macro avg       0.52      0.46      0.43      5104\n",
      "weighted avg       0.52      0.46      0.43      5104\n",
      "\n",
      "accuracy = 0.460619\n",
      "k = 91\n",
      "[4 2 4 ... 3 0 4]\n",
      "              precision    recall  f1-score   support\n",
      "\n",
      "           0       0.40      0.54      0.46       871\n",
      "           1       0.76      0.10      0.18       807\n",
      "           2       0.56      0.78      0.65       784\n",
      "           3       0.44      0.31      0.36       867\n",
      "           4       0.38      0.65      0.48       921\n",
      "           5       0.58      0.38      0.46       854\n",
      "\n",
      "    accuracy                           0.46      5104\n",
      "   macro avg       0.52      0.46      0.43      5104\n",
      "weighted avg       0.52      0.46      0.43      5104\n",
      "\n",
      "accuracy = 0.460815\n",
      "k = 92\n",
      "[4 2 4 ... 3 0 4]\n",
      "              precision    recall  f1-score   support\n",
      "\n",
      "           0       0.40      0.55      0.46       871\n",
      "           1       0.76      0.10      0.18       807\n",
      "           2       0.56      0.77      0.65       784\n",
      "           3       0.43      0.30      0.36       867\n",
      "           4       0.38      0.64      0.48       921\n",
      "           5       0.59      0.38      0.46       854\n",
      "\n",
      "    accuracy                           0.46      5104\n",
      "   macro avg       0.52      0.46      0.43      5104\n",
      "weighted avg       0.51      0.46      0.43      5104\n",
      "\n",
      "accuracy = 0.459639\n",
      "k = 93\n",
      "[4 2 4 ... 3 0 4]\n",
      "              precision    recall  f1-score   support\n",
      "\n",
      "           0       0.40      0.55      0.46       871\n",
      "           1       0.76      0.10      0.18       807\n",
      "           2       0.56      0.77      0.65       784\n",
      "           3       0.43      0.31      0.36       867\n",
      "           4       0.38      0.64      0.48       921\n",
      "           5       0.59      0.37      0.46       854\n",
      "\n",
      "    accuracy                           0.46      5104\n",
      "   macro avg       0.52      0.46      0.43      5104\n",
      "weighted avg       0.52      0.46      0.43      5104\n",
      "\n",
      "accuracy = 0.459248\n",
      "k = 94\n",
      "[4 2 4 ... 3 0 4]\n",
      "              precision    recall  f1-score   support\n",
      "\n",
      "           0       0.40      0.55      0.46       871\n",
      "           1       0.75      0.10      0.18       807\n",
      "           2       0.56      0.77      0.65       784\n",
      "           3       0.43      0.30      0.36       867\n",
      "           4       0.38      0.64      0.48       921\n",
      "           5       0.58      0.38      0.46       854\n",
      "\n",
      "    accuracy                           0.46      5104\n",
      "   macro avg       0.52      0.46      0.43      5104\n",
      "weighted avg       0.51      0.46      0.43      5104\n",
      "\n",
      "accuracy = 0.458856\n",
      "k = 95\n",
      "[4 2 4 ... 3 0 4]\n",
      "              precision    recall  f1-score   support\n",
      "\n",
      "           0       0.40      0.55      0.46       871\n",
      "           1       0.76      0.10      0.18       807\n",
      "           2       0.56      0.77      0.65       784\n",
      "           3       0.43      0.30      0.36       867\n",
      "           4       0.38      0.64      0.48       921\n",
      "           5       0.58      0.37      0.45       854\n",
      "\n",
      "    accuracy                           0.46      5104\n",
      "   macro avg       0.52      0.46      0.43      5104\n",
      "weighted avg       0.51      0.46      0.43      5104\n",
      "\n",
      "accuracy = 0.458464\n",
      "k = 96\n",
      "[4 2 4 ... 3 0 4]\n",
      "              precision    recall  f1-score   support\n",
      "\n",
      "           0       0.40      0.55      0.46       871\n",
      "           1       0.75      0.10      0.18       807\n",
      "           2       0.56      0.77      0.65       784\n",
      "           3       0.43      0.31      0.36       867\n",
      "           4       0.38      0.64      0.48       921\n",
      "           5       0.58      0.37      0.45       854\n",
      "\n",
      "    accuracy                           0.46      5104\n",
      "   macro avg       0.52      0.46      0.43      5104\n",
      "weighted avg       0.51      0.46      0.43      5104\n",
      "\n",
      "accuracy = 0.458072\n",
      "k = 97\n",
      "[4 2 4 ... 3 0 4]\n",
      "              precision    recall  f1-score   support\n",
      "\n",
      "           0       0.40      0.54      0.46       871\n",
      "           1       0.74      0.10      0.18       807\n",
      "           2       0.56      0.76      0.64       784\n",
      "           3       0.44      0.31      0.36       867\n",
      "           4       0.38      0.65      0.48       921\n",
      "           5       0.59      0.38      0.46       854\n",
      "\n",
      "    accuracy                           0.46      5104\n",
      "   macro avg       0.52      0.46      0.43      5104\n",
      "weighted avg       0.51      0.46      0.43      5104\n",
      "\n",
      "accuracy = 0.457876\n",
      "k = 98\n",
      "[4 2 4 ... 3 0 4]\n",
      "              precision    recall  f1-score   support\n",
      "\n",
      "           0       0.40      0.55      0.46       871\n",
      "           1       0.75      0.10      0.18       807\n",
      "           2       0.56      0.77      0.65       784\n",
      "           3       0.44      0.31      0.36       867\n",
      "           4       0.38      0.65      0.48       921\n",
      "           5       0.59      0.37      0.46       854\n",
      "\n",
      "    accuracy                           0.46      5104\n",
      "   macro avg       0.52      0.46      0.43      5104\n",
      "weighted avg       0.51      0.46      0.43      5104\n",
      "\n",
      "accuracy = 0.458464\n",
      "k = 99\n",
      "[4 2 4 ... 3 0 4]\n",
      "              precision    recall  f1-score   support\n",
      "\n",
      "           0       0.40      0.54      0.46       871\n",
      "           1       0.74      0.10      0.17       807\n",
      "           2       0.56      0.77      0.65       784\n",
      "           3       0.43      0.30      0.36       867\n",
      "           4       0.38      0.65      0.48       921\n",
      "           5       0.58      0.37      0.45       854\n",
      "\n",
      "    accuracy                           0.46      5104\n",
      "   macro avg       0.52      0.46      0.43      5104\n",
      "weighted avg       0.51      0.46      0.43      5104\n",
      "\n",
      "accuracy = 0.456505\n",
      "max: k = 31, accuracy = 0.486089\n"
     ]
    }
   ],
   "source": [
    "from sklearn.metrics import confusion_matrix, classification_report, accuracy_score\n",
    "from tqdm import tqdm\n",
    "import glob\n",
    "from sklearn.neighbors import KNeighborsClassifier\n",
    "accuracymax = 0\n",
    "kmax = 0\n",
    "accuracy_list=[]\n",
    "for k in range(1,100):\n",
    "\n",
    "    print(\"k = %d\"%k)\n",
    "    # clf = KNeighborsClassifier(n_neighbors=11).fit(XX_train, y_train)\n",
    "    clf = KNeighborsClassifier(n_neighbors=k).fit(x_train, y_train)\n",
    "    predictions_labels = clf.predict(x_test)\n",
    "\n",
    "    print(predictions_labels)\n",
    "\n",
    "    print((classification_report(y_test, predictions_labels)))\n",
    "\n",
    "    accuracy = accuracy_score(y_test, predictions_labels)\n",
    "    print(\"accuracy = %lf\" % accuracy)\n",
    "\n",
    "    if accuracy > accuracymax:\n",
    "        accuracymax = accuracy\n",
    "        kmax = k\n",
    "        print(\"update: k = %d, accuracy = %lf\" % (kmax,accuracymax))\n",
    "    accuracy_list.append(accuracy)\n",
    "print(\"max: k = %d, accuracy = %lf\"%(kmax,accuracymax))"
   ],
   "metadata": {
    "collapsed": false,
    "pycharm": {
     "name": "#%%\n"
    }
   }
  },
  {
   "cell_type": "code",
   "execution_count": 105,
   "outputs": [
    {
     "name": "stdout",
     "output_type": "stream",
     "text": [
      "[0.3961598746081505, 0.39322100313479624, 0.4231974921630094, 0.443769592476489, 0.4476880877742947, 0.45141065830721006, 0.4549373040752351, 0.45787617554858934, 0.4649294670846395, 0.4663009404388715, 0.4731583072100313, 0.4760971786833856, 0.47433385579937304, 0.48295454545454547, 0.48040752351097177, 0.48099529780564265, 0.4837382445141066, 0.4825626959247649, 0.4837382445141066, 0.47766457680250785, 0.48197492163009403, 0.48197492163009403, 0.4782523510971787, 0.4802115987460815, 0.4827586206896552, 0.4766849529780564, 0.47981974921630094, 0.48197492163009403, 0.4823667711598746, 0.48315047021943575, 0.48608934169278994, 0.4825626959247649, 0.4802115987460815, 0.4802115987460815, 0.47981974921630094, 0.4782523510971787, 0.475705329153605, 0.475705329153605, 0.4788401253918495, 0.4782523510971787, 0.4766849529780564, 0.4759012539184953, 0.47511755485893414, 0.4759012539184953, 0.4753134796238245, 0.4745297805642633, 0.4759012539184953, 0.4739420062695925, 0.4725705329153605, 0.4684561128526646, 0.47080721003134796, 0.47002351097178685, 0.4706112852664577, 0.47198275862068967, 0.47198275862068967, 0.4717868338557994, 0.47002351097178685, 0.46532131661442006, 0.46669278996865204, 0.4690438871473354, 0.46649686520376177, 0.4659090909090909, 0.46394984326018807, 0.46453761755485895, 0.4629702194357367, 0.46238244514106586, 0.46316614420062696, 0.46316614420062696, 0.4629702194357367, 0.4635579937304075, 0.46199059561128525, 0.46238244514106586, 0.46257836990595613, 0.4651253918495298, 0.46316614420062696, 0.4643416927899687, 0.46414576802507834, 0.46394984326018807, 0.4606191222570533, 0.4614028213166144, 0.46257836990595613, 0.4588557993730408, 0.4588557993730408, 0.45846394984326017, 0.45905172413793105, 0.4596394984326019, 0.4614028213166144, 0.45846394984326017, 0.45983542319749215, 0.4606191222570533, 0.4608150470219436, 0.4596394984326019, 0.4592476489028213, 0.4588557993730408, 0.45846394984326017, 0.4580721003134796, 0.45787617554858934, 0.45846394984326017, 0.45650470219435735]\n"
     ]
    }
   ],
   "source": [
    "print(accuracy_list)"
   ],
   "metadata": {
    "collapsed": false,
    "pycharm": {
     "name": "#%%\n"
    }
   }
  },
  {
   "cell_type": "markdown",
   "source": [
    "END: OWN CODE"
   ],
   "metadata": {
    "collapsed": false,
    "pycharm": {
     "name": "#%% md\n"
    }
   }
  }
 ],
 "metadata": {
  "kernelspec": {
   "display_name": "Python 3",
   "language": "python",
   "name": "python3"
  },
  "language_info": {
   "codemirror_mode": {
    "name": "ipython",
    "version": 2
   },
   "file_extension": ".py",
   "mimetype": "text/x-python",
   "name": "python",
   "nbconvert_exporter": "python",
   "pygments_lexer": "ipython2",
   "version": "2.7.6"
  }
 },
 "nbformat": 4,
 "nbformat_minor": 0
}
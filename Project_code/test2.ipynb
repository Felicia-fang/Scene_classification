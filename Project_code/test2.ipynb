{
 "cells": [
  {
   "cell_type": "markdown",
   "source": [
    "生成单个数据集。\n",
    "数据集的大小为10000且训练集大小为7000，测试集大小为3000。\n",
    "数据集的样本特征维度p为500，且服从如下的高维线性函数："
   ],
   "metadata": {
    "collapsed": false
   }
  },
  {
   "cell_type": "code",
   "execution_count": 5,
   "metadata": {
    "collapsed": true
   },
   "outputs": [],
   "source": [
    "import numpy as np\n",
    "import torch\n",
    "from torch import nn\n",
    "import matplotlib.pyplot as plt\n",
    "from IPython import display\n",
    "from torch.utils.data import TensorDataset ,DataLoader\n",
    "from sklearn.model_selection import train_test_split"
   ]
  },
  {
   "cell_type": "code",
   "execution_count": 6,
   "outputs": [
    {
     "name": "stdout",
     "output_type": "stream",
     "text": [
      "torch.Size([7000, 500])\n",
      "torch.Size([7000, 1])\n",
      "torch.Size([3000, 500])\n",
      "torch.Size([3000, 1])\n"
     ]
    }
   ],
   "source": [
    "num_input,num_example = 500,10000\n",
    "true_w = torch.tensor(np.ones((num_input,1)),dtype = torch.float32)*0.0056\n",
    "# true_w = torch.ones(500,1)*0.0056\n",
    "true_b = 0.028\n",
    "x_data = torch.tensor(np.random.randn(num_example,num_input),dtype = torch.float32)\n",
    "y_data = torch.mm(x_data ,true_w)+true_b\n",
    "y_data += torch.normal(mean = 0,std = 0.001,size=y_data.size())\n",
    "# y_dat += torch.tensor(np.random.normal(0, 0.01, size=y_data.size()), dtype=torch.float)\n",
    "train_x,test_x,train_y,test_y = train_test_split(x_data,y_data,shuffle=True,test_size=0.3)\n",
    "print(train_x.shape)\n",
    "print(train_y.shape)\n",
    "print(test_x.shape)\n",
    "print(test_y.shape)"
   ],
   "metadata": {
    "collapsed": false,
    "pycharm": {
     "name": "#%%\n"
    }
   }
  },
  {
   "cell_type": "code",
   "execution_count": 7,
   "outputs": [],
   "source": [
    "batch_size = 50\n",
    "train_datasets = TensorDataset(train_x,train_y)\n",
    "train_iter = DataLoader(\n",
    "    dataset = train_datasets,\n",
    "    batch_size = batch_size,\n",
    "    shuffle = True,\n",
    "    num_workers = 0\n",
    ")\n",
    "test_datasets = TensorDataset(test_x,test_y)\n",
    "test_iter = DataLoader(\n",
    "    dataset = test_datasets,\n",
    "    batch_size = batch_size,\n",
    "    shuffle = True,\n",
    "    num_workers = 0\n",
    ")"
   ],
   "metadata": {
    "collapsed": false,
    "pycharm": {
     "name": "#%%\n"
    }
   }
  },
  {
   "cell_type": "markdown",
   "source": [
    "前馈"
   ],
   "metadata": {
    "collapsed": false
   }
  },
  {
   "cell_type": "code",
   "execution_count": 8,
   "outputs": [],
   "source": [
    "num_hiddens , num_output = 256,1\n",
    "w1 = torch.normal(mean = 0,std = 0.001,size = (num_hiddens,num_input), dtype=torch.float32)\n",
    "b1 = torch.ones(1,dtype = torch.float32)\n",
    "\n",
    "w2 = torch.normal(mean = 0,std = 0.001,size = (num_output,num_hiddens), dtype=torch.float32)\n",
    "b2 = torch.ones(1,dtype = torch.float32)\n",
    "params = [w1,w2,b1,b2]\n",
    "for param in params:\n",
    "    param.requires_grad_(requires_grad=True)"
   ],
   "metadata": {
    "collapsed": false,
    "pycharm": {
     "name": "#%%\n"
    }
   }
  },
  {
   "cell_type": "code",
   "execution_count": 9,
   "outputs": [],
   "source": [
    "def ReLU(X):\n",
    "    return torch.max(X,other = torch.tensor(0.0))"
   ],
   "metadata": {
    "collapsed": false,
    "pycharm": {
     "name": "#%%\n"
    }
   }
  },
  {
   "cell_type": "code",
   "execution_count": 10,
   "outputs": [],
   "source": [
    "def DNN(x):\n",
    "    H = ReLU(torch.matmul(x,w1.t())+b1)\n",
    "    H = ReLU(torch.matmul(H,w2.t())+b2)\n",
    "    return H"
   ],
   "metadata": {
    "collapsed": false,
    "pycharm": {
     "name": "#%%\n"
    }
   }
  },
  {
   "cell_type": "code",
   "execution_count": 11,
   "outputs": [],
   "source": [
    "loss = torch.nn.MSELoss()\n",
    "def SGD(paras,lr,batch_size):\n",
    "    for param in params:\n",
    "        param.data -= lr*param.grad/batch_size"
   ],
   "metadata": {
    "collapsed": false,
    "pycharm": {
     "name": "#%%\n"
    }
   }
  },
  {
   "cell_type": "code",
   "execution_count": 12,
   "outputs": [],
   "source": [
    "def train(model,train_iter,loss,num_epochs,batch_size,lr,optimizer =None):\n",
    "    train_ls ,test_ls = [],[]\n",
    "    for epoch in range(num_epochs):\n",
    "        train_ls_sum,train_acc_num,n = 0,0,0\n",
    "        for x ,y in train_iter:\n",
    "            y_pred = model(x)\n",
    "            l = loss(y_pred,y)\n",
    "            if params is not None and params[0].grad is not None:\n",
    "                for param in params:\n",
    "                    param.grad.data.zero_()\n",
    "            l.backward()\n",
    "            SGD(params,lr,batch_size)\n",
    "        train_ls.append(loss(model(train_x),train_y).item())\n",
    "        test_ls.append(loss(model(test_x),test_y).item())\n",
    "        print('epoch %d, train_loss %.6f,test_loss %f'%(epoch+1, train_ls[epoch],test_ls[epoch]))\n",
    "    return train_ls,test_ls"
   ],
   "metadata": {
    "collapsed": false,
    "pycharm": {
     "name": "#%%\n"
    }
   }
  },
  {
   "cell_type": "code",
   "execution_count": 15,
   "outputs": [
    {
     "name": "stdout",
     "output_type": "stream",
     "text": [
      "epoch 1, train_loss 0.015226,test_loss 0.015414\n",
      "epoch 2, train_loss 0.015225,test_loss 0.015415\n",
      "epoch 3, train_loss 0.015225,test_loss 0.015420\n",
      "epoch 4, train_loss 0.015224,test_loss 0.015413\n",
      "epoch 5, train_loss 0.015223,test_loss 0.015411\n",
      "epoch 6, train_loss 0.015222,test_loss 0.015412\n",
      "epoch 7, train_loss 0.015221,test_loss 0.015415\n",
      "epoch 8, train_loss 0.015221,test_loss 0.015411\n",
      "epoch 9, train_loss 0.015220,test_loss 0.015412\n",
      "epoch 10, train_loss 0.015219,test_loss 0.015413\n",
      "epoch 11, train_loss 0.015218,test_loss 0.015412\n",
      "epoch 12, train_loss 0.015219,test_loss 0.015421\n",
      "epoch 13, train_loss 0.015217,test_loss 0.015413\n",
      "epoch 14, train_loss 0.015217,test_loss 0.015400\n",
      "epoch 15, train_loss 0.015216,test_loss 0.015402\n",
      "epoch 16, train_loss 0.015214,test_loss 0.015406\n",
      "epoch 17, train_loss 0.015214,test_loss 0.015409\n",
      "epoch 18, train_loss 0.015213,test_loss 0.015409\n",
      "epoch 19, train_loss 0.015212,test_loss 0.015405\n",
      "epoch 20, train_loss 0.015211,test_loss 0.015401\n"
     ]
    }
   ],
   "source": [
    "lr = 0.001\n",
    "num_epochs = 20\n",
    "train_loss ,test_lss =train(DNN,train_iter,loss,num_epochs,batch_size,lr)"
   ],
   "metadata": {
    "collapsed": false,
    "pycharm": {
     "name": "#%%\n"
    }
   }
  },
  {
   "cell_type": "code",
   "execution_count": 16,
   "outputs": [
    {
     "data": {
      "text/plain": "<Figure size 432x288 with 1 Axes>",
      "image/png": "[encoded data removed]"
     },
     "metadata": {
      "needs_background": "light"
     },
     "output_type": "display_data"
    }
   ],
   "source": [
    "x = np.linspace(0,len(train_loss),len(train_loss))\n",
    "plt.plot(x,train_loss,label=\"train_loss\",linewidth=1.5)\n",
    "plt.plot(x,test_lss,label=\"test_loss\",linewidth=1.5)\n",
    "plt.xlabel(\"epoch\")\n",
    "plt.ylabel(\"loss\")\n",
    "plt.legend()\n",
    "plt.show()"
   ],
   "metadata": {
    "collapsed": false,
    "pycharm": {
     "name": "#%%\n"
    }
   }
  },
  {
   "cell_type": "markdown",
   "source": [
    "nn"
   ],
   "metadata": {
    "collapsed": false
   }
  },
  {
   "cell_type": "code",
   "execution_count": 17,
   "outputs": [],
   "source": [
    "from torch.nn import init\n",
    "from collections import OrderedDict\n",
    "\n",
    "model= nn.Sequential(OrderedDict([\n",
    "    ('linear1',nn.Linear(num_input,256)),\n",
    "    ('linear2',nn.Linear(256,128)),\n",
    "    ('linear3',nn.Linear(128,1)),\n",
    "])\n",
    ")\n",
    "for param in model.parameters():\n",
    "    init.normal_(param,mean = 0 ,std = 0.001)"
   ],
   "metadata": {
    "collapsed": false,
    "pycharm": {
     "name": "#%%\n"
    }
   }
  },
  {
   "cell_type": "code",
   "execution_count": 18,
   "outputs": [],
   "source": [
    "lr = 0.001\n",
    "loss = nn.MSELoss()\n",
    "optimizer = torch.optim.SGD(model.parameters(),lr)"
   ],
   "metadata": {
    "collapsed": false,
    "pycharm": {
     "name": "#%%\n"
    }
   }
  },
  {
   "cell_type": "code",
   "execution_count": 19,
   "outputs": [],
   "source": [
    "def train(model,train_iter,test_iter,loss,num_epochs,batch_size,lr):\n",
    "    train_ls,test_ls = [],[]\n",
    "    for epoch in range(num_epochs):\n",
    "        train_ls_sum ,test_ls_sum = 0,0\n",
    "        for x,y in train_iter:\n",
    "            y_pred = model(x)\n",
    "            l = loss(y_pred,y)\n",
    "            optimizer.zero_grad()\n",
    "            l.backward()\n",
    "            optimizer.step()\n",
    "            train_ls_sum += l.item()\n",
    "        for x ,y in test_iter:\n",
    "            y_pred = model(x)\n",
    "            l = loss(y_pred,y)\n",
    "            test_ls_sum +=l.item()\n",
    "        train_ls.append(train_ls_sum)\n",
    "        test_ls.append(test_ls_sum)\n",
    "        print('epoch %d,train_loss %.6f,test_loss %f'%(epoch+1, train_ls[epoch],test_ls[epoch]))\n",
    "    return train_ls,test_ls"
   ],
   "metadata": {
    "collapsed": false,
    "pycharm": {
     "name": "#%%\n"
    }
   }
  },
  {
   "cell_type": "code",
   "execution_count": 20,
   "outputs": [
    {
     "name": "stdout",
     "output_type": "stream",
     "text": [
      "epoch 1,train_loss 2.262241,test_loss 0.981726\n",
      "epoch 2,train_loss 2.226134,test_loss 0.967472\n",
      "epoch 3,train_loss 2.205567,test_loss 0.958891\n",
      "epoch 4,train_loss 2.193948,test_loss 0.953661\n",
      "epoch 5,train_loss 2.187356,test_loss 0.950361\n",
      "epoch 6,train_loss 2.183606,test_loss 0.948326\n",
      "epoch 7,train_loss 2.181414,test_loss 0.946903\n",
      "epoch 8,train_loss 2.180176,test_loss 0.946047\n",
      "epoch 9,train_loss 2.179482,test_loss 0.945422\n",
      "epoch 10,train_loss 2.179086,test_loss 0.945008\n",
      "epoch 11,train_loss 2.178856,test_loss 0.944714\n",
      "epoch 12,train_loss 2.178728,test_loss 0.944540\n",
      "epoch 13,train_loss 2.178649,test_loss 0.944380\n",
      "epoch 14,train_loss 2.178644,test_loss 0.944297\n",
      "epoch 15,train_loss 2.178608,test_loss 0.944210\n",
      "epoch 16,train_loss 2.178593,test_loss 0.944161\n",
      "epoch 17,train_loss 2.178590,test_loss 0.944145\n",
      "epoch 18,train_loss 2.178580,test_loss 0.944099\n",
      "epoch 19,train_loss 2.178545,test_loss 0.944107\n",
      "epoch 20,train_loss 2.178558,test_loss 0.944052\n"
     ]
    }
   ],
   "source": [
    "num_epochs = 20\n",
    "train_loss ,test_loss = train(model,train_iter,test_iter,loss,num_epochs,batch_size,lr)"
   ],
   "metadata": {
    "collapsed": false,
    "pycharm": {
     "name": "#%%\n"
    }
   }
  },
  {
   "cell_type": "code",
   "execution_count": 21,
   "outputs": [
    {
     "data": {
      "text/plain": "<Figure size 432x288 with 1 Axes>",
      "image/png": "[encoded data removed]"
     },
     "metadata": {
      "needs_background": "light"
     },
     "output_type": "display_data"
    }
   ],
   "source": [
    "x = np.linspace(0,len(train_loss),len(train_loss))\n",
    "plt.plot(x,train_loss,label=\"train_loss\",linewidth=1.5)\n",
    "plt.plot(x,test_loss,label=\"test_loss\",linewidth=1.5)\n",
    "plt.xlabel(\"epoch\")\n",
    "plt.ylabel(\"loss\")\n",
    "plt.legend()\n",
    "plt.show()"
   ],
   "metadata": {
    "collapsed": false,
    "pycharm": {
     "name": "#%%\n"
    }
   }
  }
 ],
 "metadata": {
  "kernelspec": {
   "display_name": "Python 3",
   "language": "python",
   "name": "python3"
  },
  "language_info": {
   "codemirror_mode": {
    "name": "ipython",
    "version": 2
   },
   "file_extension": ".py",
   "mimetype": "text/x-python",
   "name": "python",
   "nbconvert_exporter": "python",
   "pygments_lexer": "ipython2",
   "version": "2.7.6"
  }
 },
 "nbformat": 4,
 "nbformat_minor": 0
}